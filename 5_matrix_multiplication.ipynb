{
 "cells": [
  {
   "cell_type": "markdown",
   "id": "6479a978",
   "metadata": {},
   "source": [
    "# Matrix Multiplication\n",
    "\n",
    "So far we did a lot of work with vectors, matrices, and matrix-vector multiplication. But what happens when we apply multiple matrices/transformations to a space? This is where we will discuss matrix-vector multiplication. We will also talk about inverse matrices. "
   ]
  },
  {
   "cell_type": "markdown",
   "id": "12bf6bf8",
   "metadata": {},
   "source": [
    "## Combining Transformations "
   ]
  },
  {
   "cell_type": "markdown",
   "id": "f28ceeba",
   "metadata": {},
   "source": [
    "Observe this transformation below alongside its Python code. "
   ]
  },
  {
   "cell_type": "markdown",
   "id": "9678a39f",
   "metadata": {},
   "source": [
    "\n",
    "\n",
    "<video src=\"https://github.com/thomasnield/anaconda_linear_algebra/raw/main/media/01_CombinedMatrixTransformationScene.mp4\" controls=\"controls\" style=\"max-width: 730px;\">\n",
    "</video>\n"
   ]
  },
  {
   "cell_type": "code",
   "execution_count": null,
   "id": "ad7b27fa",
   "metadata": {},
   "outputs": [],
   "source": [
    "import numpy as np \n",
    "\n",
    "v = np.array([1,1])\n",
    "\n",
    "A = np.array([[1, 2],\n",
    "              [1, 0]])\n",
    "\n",
    "A @ v "
   ]
  },
  {
   "cell_type": "markdown",
   "id": "b2f3d5fb",
   "metadata": {},
   "source": [
    "Hopefully nothing is too surprising here. We observe an inversion and a sheer happening in a transformation $ A $ and being applied to vector $ v $. But is it possible we can see the inversion and sheer as separate transformations? Of course! We can combine two matrices using **matrix multiplication**. Like matrix-vector multiplication, we can use the `@` operator to perform this operation. It will effectively combine the two transformations into one. "
   ]
  },
  {
   "cell_type": "code",
   "execution_count": null,
   "id": "16b15122",
   "metadata": {},
   "outputs": [],
   "source": [
    "import numpy as np \n",
    "\n",
    "B = np.array([[0,1],[1,0]])\n",
    "C = np.array([[2,1],[0,1]])\n",
    "\n",
    "combined = C @ B \n",
    "combined"
   ]
  },
  {
   "cell_type": "markdown",
   "id": "6b1841fd",
   "metadata": {},
   "source": [
    "Here is the formula to combine two 2x2 matrices using matrix multiplication. "
   ]
  },
  {
   "cell_type": "markdown",
   "id": "d75c7d04",
   "metadata": {},
   "source": [
    "$\n",
    "\\begin{aligned}\n",
    "\\begin{bmatrix} a & b \\\\ c & d \\end{bmatrix} \\begin{bmatrix} e & f \\\\ g & h \\end{bmatrix} &= \\begin{bmatrix} (a \\cdot e) + (b \\cdot g) & (a \\cdot f) + (b \\cdot h) \\\\ (c \\cdot e) + (d \\cdot g) & (c \\cdot f) + (d \\cdot h) \\end{bmatrix} \\\\\n",
    "&= \\begin{bmatrix} ae + bg & af + bh \\\\ ce + dg & cf + dh \\end{bmatrix}\n",
    "\\end{aligned}\n",
    "$"
   ]
  },
  {
   "cell_type": "markdown",
   "id": "bdd69c5e",
   "metadata": {},
   "source": [
    "Here is how we combine matrices $ C $ and $ B $. "
   ]
  },
  {
   "cell_type": "markdown",
   "id": "24b37274",
   "metadata": {},
   "source": [
    "$\n",
    "\\begin{aligned}\n",
    "A &= CB \\\\\n",
    "&= \\begin{bmatrix} 2 & 1 \\\\ 0 & 1 \\end{bmatrix} \\begin{bmatrix} 0 & 1 \\\\ 1 & 0 \\end{bmatrix} \\\\ &= \\begin{bmatrix} (2 \\cdot 0) + (1 \\cdot 1) & (2 \\cdot 1) + (1 \\cdot 0) \\\\ (0 \\cdot 0) + (1 \\cdot 1) & (0 \\cdot 1) + (1 \\cdot 0) \\end{bmatrix} \\\\\n",
    "&= \\begin{bmatrix} 1 & 2 \\\\ 1 & 0 \\end{bmatrix}\n",
    "\\end{aligned}\n",
    "$"
   ]
  },
  {
   "cell_type": "code",
   "execution_count": null,
   "id": "764badbc",
   "metadata": {},
   "outputs": [],
   "source": [
    "import numpy as np \n",
    "\n",
    "v = np.array([1,1])\n",
    "\n",
    "B = np.array([[0,1],[1,0]])\n",
    "C = np.array([[2,1],[0,1]])\n",
    "\n",
    "combined = C @ B \n",
    "\n",
    "combined @ v "
   ]
  },
  {
   "cell_type": "markdown",
   "id": "2a212c17",
   "metadata": {},
   "source": [
    "Note that the order we combine the matrices does matter! Think of each matrix as a function, being applied in nested fashion, and the order you nest these operations will yield different results. "
   ]
  },
  {
   "cell_type": "markdown",
   "id": "c316c0ad",
   "metadata": {},
   "source": [
    "$\n",
    "\\begin{aligned}\n",
    "A &= BC \\\\\n",
    "&= \\begin{bmatrix} 0 & 1 \\\\ 1 & 0 \\end{bmatrix} \\begin{bmatrix} 2 & 1 \\\\ 0 & 1 \\end{bmatrix} \\\\ &= \\begin{bmatrix} (0 \\cdot 2) + (1 \\cdot 0) & (0 \\cdot 1) + (1 \\cdot 1) \\\\ (1 \\cdot 2) + (0 \\cdot 0) & (1 \\cdot 1) + (0 \\cdot 1) \\end{bmatrix} \\\\\n",
    "&= \\begin{bmatrix} 0 & 1 \\\\ 2 & 1 \\end{bmatrix}\n",
    "\\end{aligned}\n",
    "$"
   ]
  },
  {
   "cell_type": "code",
   "execution_count": null,
   "id": "77d735dc",
   "metadata": {},
   "outputs": [],
   "source": [
    "import numpy as np \n",
    "\n",
    "v = np.array([1,1])\n",
    "\n",
    "B = np.array([[0,1],[1,0]])\n",
    "C = np.array([[2,1],[0,1]])\n",
    "\n",
    "combined = B @ C \n",
    "\n",
    "combined @ v "
   ]
  },
  {
   "cell_type": "markdown",
   "id": "9ef89241",
   "metadata": {},
   "source": [
    "## Inverse Matrices"
   ]
  },
  {
   "cell_type": "markdown",
   "id": "ebe5cc3b",
   "metadata": {},
   "source": [
    "Now that you have an intuition on how matrices are in fact linear transformations, and how matrice can be combined, an inverse matrix will make intuitive sense. An **inverse matrix** (not to be confused with an inversion) undoes the transformation of a matrix. Let's take a look at this animation below. \n",
    "\n",
    "Let's take this matrix $ A = \\begin{bmatrix} -1 & 1 \\\\ 0.5 & 2 \\end{bmatrix} $ and apply it to vector $ \\vec{v} = \\begin{bmatrix} 3 \\\\ 2 \\end{bmatrix} $. \n",
    "\n",
    "<br>\n",
    "<br>\n",
    "<br>\n",
    "\n",
    "<video src=\"https://github.com/thomasnield/anaconda_linear_algebra/raw/main/media/01_MatrixTransformationScence.mp4\" controls=\"controls\" style=\"max-width: 730px;\">\n",
    "</video>\n"
   ]
  },
  {
   "cell_type": "markdown",
   "id": "b429edf4",
   "metadata": {},
   "source": [
    "Let's make code where we transform matrix $ A $ and apply it to vector $ \\vec{v} $, resulting in vector $ \\vec{w} $ as shown above. "
   ]
  },
  {
   "cell_type": "code",
   "execution_count": null,
   "id": "d8f5bb16",
   "metadata": {},
   "outputs": [],
   "source": [
    "import numpy as np \n",
    "\n",
    "i_hat = np.array([-1, 0.5])\n",
    "j_hat = np.array([1, -2])\n",
    "\n",
    "A = np.array([i_hat,j_hat]).transpose()\n",
    "v = np.array([3, 2])\n",
    "w = A @ v \n",
    "w"
   ]
  },
  {
   "cell_type": "markdown",
   "id": "c12426a1",
   "metadata": {},
   "source": [
    "We can use NumPy's `inv()` function to calculate the inverse of $ A $, which is a transformation that undoes the transformation. "
   ]
  },
  {
   "cell_type": "code",
   "execution_count": null,
   "id": "25668d99",
   "metadata": {},
   "outputs": [],
   "source": [
    "A_inv = inv(A)\n",
    "A_inv"
   ]
  },
  {
   "cell_type": "markdown",
   "id": "02bc0c7c",
   "metadata": {},
   "source": [
    "Now if we applied this inverse matrix to the transformed vector $ w $, we can undo the transformation and make it $ v $ again. "
   ]
  },
  {
   "cell_type": "code",
   "execution_count": null,
   "id": "9a6b6796",
   "metadata": {},
   "outputs": [],
   "source": [
    "v = A_inv @ w\n",
    "v"
   ]
  },
  {
   "cell_type": "markdown",
   "id": "fcfa00f6",
   "metadata": {},
   "source": [
    "Here is the inverse visualized, and notice how the transformation was completely reversed. "
   ]
  },
  {
   "cell_type": "markdown",
   "id": "42ed9c81",
   "metadata": {},
   "source": [
    "\n",
    "<video src=\"https://github.com/thomasnield/anaconda_linear_algebra/raw/main/media/01_MatrixTransformationScence_reversed.mp4\" controls=\"controls\" style=\"max-width: 730px;\">\n",
    "</video>"
   ]
  },
  {
   "cell_type": "markdown",
   "id": "94c68e31",
   "metadata": {},
   "source": [
    "Inverse matrices are a common operation we will apply in the next section, from solving systems of equations to fitting a linear regression via matrix decomposition. "
   ]
  },
  {
   "cell_type": "markdown",
   "id": "7a9c4250",
   "metadata": {},
   "source": [
    "## Understanding the Dot Product"
   ]
  },
  {
   "cell_type": "markdown",
   "id": "0e03e61c",
   "metadata": {},
   "source": [
    "This serves more as an appendix and provide a taste of why linear transformations \"just work.\" So far we have done a lot of dot product work using the `@` operator to perform matrix vector multiplication and matrix multiplication. But what exactly is the dot product? While we have done matrix vector multiplication and matrix multiplication with a geometric and numeric approach, let's take a deeper look at what is happening. \n",
    "\n",
    "Let's say we have $ \\vec{v} $ and $ \\vec{w} $.  "
   ]
  },
  {
   "cell_type": "markdown",
   "id": "e5d87f84",
   "metadata": {},
   "source": [
    "![img](data:image/svg+xml;base64,PD94bWwgdmVyc2lvbj0iMS4wIiBlbmNvZGluZz0iVVRGLTgiPz4KPHN2ZyB4bWxucz0iaHR0cDovL3d3dy53My5vcmcvMjAwMC9zdmciIHhtbG5zOnhsaW5rPSJodHRwOi8vd3d3LnczLm9yZy8xOTk5L3hsaW5rIiB3aWR0aD0iMzAwcHQiIGhlaWdodD0iMjk5cHQiIHZpZXdCb3g9IjAgMCAzMDAgMjk5IiB2ZXJzaW9uPSIxLjEiPgo8ZyBpZD0ic3VyZmFjZTEiPgo8cGF0aCBzdHlsZT0iIHN0cm9rZTpub25lO2ZpbGwtcnVsZTpub256ZXJvO2ZpbGw6cmdiKDEwMCUsMTAwJSwxMDAlKTtmaWxsLW9wYWNpdHk6MC43NTsiIGQ9Ik0gMzAwIDAgQyAyMDAgMCAxMDAgMCAwIDAgQyAwIDk5LjY2Nzk2OSAwIDE5OS4zMzIwMzEgMCAyOTkgQyAxMDAgMjk5IDIwMCAyOTkgMzAwIDI5OSBDIDMwMCAxOTkuMzMyMDMxIDMwMCA5OS42Njc5NjkgMzAwIDAgWiBNIDMwMCAwICIvPgo8cGF0aCBzdHlsZT0iZmlsbDpub25lO3N0cm9rZS13aWR0aDowLjAyO3N0cm9rZS1saW5lY2FwOmJ1dHQ7c3Ryb2tlLWxpbmVqb2luOm1pdGVyO3N0cm9rZTpyZ2IoNzMuMzMzMzMzJSw3My4zMzMzMzMlLDczLjMzMzMzMyUpO3N0cm9rZS1vcGFjaXR5OjE7c3Ryb2tlLW1pdGVybGltaXQ6MTA7IiBkPSJNIC0yLjUgLTEuMDAwMDEzIEMgLTAuODMzMzMzIC0xLjAwMDAxMyAwLjgzMzMzMyAtMS4wMDAwMTMgMi41IC0xLjAwMDAxMyAiIHRyYW5zZm9ybT0ibWF0cml4KDYwLDAsMCwtNTkuOCwxNTAsMTQ5LjUpIi8+CjxwYXRoIHN0eWxlPSJmaWxsOm5vbmU7c3Ryb2tlLXdpZHRoOjAuMDI7c3Ryb2tlLWxpbmVjYXA6YnV0dDtzdHJva2UtbGluZWpvaW46bWl0ZXI7c3Ryb2tlOnJnYig3My4zMzMzMzMlLDczLjMzMzMzMyUsNzMuMzMzMzMzJSk7c3Ryb2tlLW9wYWNpdHk6MTtzdHJva2UtbWl0ZXJsaW1pdDoxMDsiIGQ9Ik0gLTIuNSAwIEMgLTAuODMzMzMzIDAgMC44MzMzMzMgMCAyLjUgMCAiIHRyYW5zZm9ybT0ibWF0cml4KDYwLDAsMCwtNTkuOCwxNTAsMTQ5LjUpIi8+CjxwYXRoIHN0eWxlPSJmaWxsOm5vbmU7c3Ryb2tlLXdpZHRoOjAuMDI7c3Ryb2tlLWxpbmVjYXA6YnV0dDtzdHJva2UtbGluZWpvaW46bWl0ZXI7c3Ryb2tlOnJnYig3My4zMzMzMzMlLDczLjMzMzMzMyUsNzMuMzMzMzMzJSk7c3Ryb2tlLW9wYWNpdHk6MTtzdHJva2UtbWl0ZXJsaW1pdDoxMDsiIGQ9Ik0gLTIuNSAxLjAwMDAxMyBDIC0wLjgzMzMzMyAxLjAwMDAxMyAwLjgzMzMzMyAxLjAwMDAxMyAyLjUgMS4wMDAwMTMgIiB0cmFuc2Zvcm09Im1hdHJpeCg2MCwwLDAsLTU5LjgsMTUwLDE0OS41KSIvPgo8cGF0aCBzdHlsZT0iZmlsbDpub25lO3N0cm9rZS13aWR0aDowLjAyO3N0cm9rZS1saW5lY2FwOmJ1dHQ7c3Ryb2tlLWxpbmVqb2luOm1pdGVyO3N0cm9rZTpyZ2IoNzMuMzMzMzMzJSw3My4zMzMzMzMlLDczLjMzMzMzMyUpO3N0cm9rZS1vcGFjaXR5OjE7c3Ryb2tlLW1pdGVybGltaXQ6MTA7IiBkPSJNIC0yLjUgMi4wMDAwMjYgQyAtMC44MzMzMzMgMi4wMDAwMjYgMC44MzMzMzMgMi4wMDAwMjYgMi41IDIuMDAwMDI2ICIgdHJhbnNmb3JtPSJtYXRyaXgoNjAsMCwwLC01OS44LDE1MCwxNDkuNSkiLz4KPHBhdGggc3R5bGU9ImZpbGw6bm9uZTtzdHJva2Utd2lkdGg6MC4wMjtzdHJva2UtbGluZWNhcDpidXR0O3N0cm9rZS1saW5lam9pbjptaXRlcjtzdHJva2U6cmdiKDczLjMzMzMzMyUsNzMuMzMzMzMzJSw3My4zMzMzMzMlKTtzdHJva2Utb3BhY2l0eToxO3N0cm9rZS1taXRlcmxpbWl0OjEwOyIgZD0iTSAtMi41IC0yLjAwMDAyNiBDIC0wLjgzMzMzMyAtMi4wMDAwMjYgMC44MzMzMzMgLTIuMDAwMDI2IDIuNSAtMi4wMDAwMjYgIiB0cmFuc2Zvcm09Im1hdHJpeCg2MCwwLDAsLTU5LjgsMTUwLDE0OS41KSIvPgo8cGF0aCBzdHlsZT0iZmlsbDpub25lO3N0cm9rZS13aWR0aDowLjAyO3N0cm9rZS1saW5lY2FwOmJ1dHQ7c3Ryb2tlLWxpbmVqb2luOm1pdGVyO3N0cm9rZTpyZ2IoNzMuMzMzMzMzJSw3My4zMzMzMzMlLDczLjMzMzMzMyUpO3N0cm9rZS1vcGFjaXR5OjE7c3Ryb2tlLW1pdGVybGltaXQ6MTA7IiBkPSJNIC0yIC0yLjUgQyAtMiAtMC44MzMzMTIgLTIgMC44MzMzMTIgLTIgMi41ICIgdHJhbnNmb3JtPSJtYXRyaXgoNjAsMCwwLC01OS44LDE1MCwxNDkuNSkiLz4KPHBhdGggc3R5bGU9ImZpbGw6bm9uZTtzdHJva2Utd2lkdGg6MC4wMjtzdHJva2UtbGluZWNhcDpidXR0O3N0cm9rZS1saW5lam9pbjptaXRlcjtzdHJva2U6cmdiKDczLjMzMzMzMyUsNzMuMzMzMzMzJSw3My4zMzMzMzMlKTtzdHJva2Utb3BhY2l0eToxO3N0cm9rZS1taXRlcmxpbWl0OjEwOyIgZD0iTSAtMSAtMi41IEMgLTEgLTAuODMzMzEyIC0xIDAuODMzMzEyIC0xIDIuNSAiIHRyYW5zZm9ybT0ibWF0cml4KDYwLDAsMCwtNTkuOCwxNTAsMTQ5LjUpIi8+CjxwYXRoIHN0eWxlPSJmaWxsOm5vbmU7c3Ryb2tlLXdpZHRoOjAuMDI7c3Ryb2tlLWxpbmVjYXA6YnV0dDtzdHJva2UtbGluZWpvaW46bWl0ZXI7c3Ryb2tlOnJnYig3My4zMzMzMzMlLDczLjMzMzMzMyUsNzMuMzMzMzMzJSk7c3Ryb2tlLW9wYWNpdHk6MTtzdHJva2UtbWl0ZXJsaW1pdDoxMDsiIGQ9Ik0gMCAtMi41IEMgMCAtMC44MzMzMTIgMCAwLjgzMzMxMiAwIDIuNSAiIHRyYW5zZm9ybT0ibWF0cml4KDYwLDAsMCwtNTkuOCwxNTAsMTQ5LjUpIi8+CjxwYXRoIHN0eWxlPSJmaWxsOm5vbmU7c3Ryb2tlLXdpZHRoOjAuMDI7c3Ryb2tlLWxpbmVjYXA6YnV0dDtzdHJva2UtbGluZWpvaW46bWl0ZXI7c3Ryb2tlOnJnYig3My4zMzMzMzMlLDczLjMzMzMzMyUsNzMuMzMzMzMzJSk7c3Ryb2tlLW9wYWNpdHk6MTtzdHJva2UtbWl0ZXJsaW1pdDoxMDsiIGQ9Ik0gMSAtMi41IEMgMSAtMC44MzMzMTIgMSAwLjgzMzMxMiAxIDIuNSAiIHRyYW5zZm9ybT0ibWF0cml4KDYwLDAsMCwtNTkuOCwxNTAsMTQ5LjUpIi8+CjxwYXRoIHN0eWxlPSJmaWxsOm5vbmU7c3Ryb2tlLXdpZHRoOjAuMDI7c3Ryb2tlLWxpbmVjYXA6YnV0dDtzdHJva2UtbGluZWpvaW46bWl0ZXI7c3Ryb2tlOnJnYig3My4zMzMzMzMlLDczLjMzMzMzMyUsNzMuMzMzMzMzJSk7c3Ryb2tlLW9wYWNpdHk6MTtzdHJva2UtbWl0ZXJsaW1pdDoxMDsiIGQ9Ik0gMiAtMi41IEMgMiAtMC44MzMzMTIgMiAwLjgzMzMxMiAyIDIuNSAiIHRyYW5zZm9ybT0ibWF0cml4KDYwLDAsMCwtNTkuOCwxNTAsMTQ5LjUpIi8+CjxwYXRoIHN0eWxlPSJmaWxsOm5vbmU7c3Ryb2tlLXdpZHRoOjAuMDQ7c3Ryb2tlLWxpbmVjYXA6YnV0dDtzdHJva2UtbGluZWpvaW46bWl0ZXI7c3Ryb2tlOnJnYigwJSwwJSwwJSk7c3Ryb2tlLW9wYWNpdHk6MTtzdHJva2UtbWl0ZXJsaW1pdDoxMDsiIGQ9Ik0gLTIuNSAtMS4wMDAwMTMgQyAtMC44MzMzMzMgLTEuMDAwMDEzIDAuODMzMzMzIC0xLjAwMDAxMyAyLjUgLTEuMDAwMDEzICIgdHJhbnNmb3JtPSJtYXRyaXgoNjAsMCwwLC01OS44LDE1MCwxNDkuNSkiLz4KPHBhdGggc3R5bGU9ImZpbGw6bm9uZTtzdHJva2Utd2lkdGg6MC4wNDtzdHJva2UtbGluZWNhcDpidXR0O3N0cm9rZS1saW5lam9pbjptaXRlcjtzdHJva2U6cmdiKDAlLDAlLDAlKTtzdHJva2Utb3BhY2l0eToxO3N0cm9rZS1taXRlcmxpbWl0OjEwOyIgZD0iTSAtMiAtMi41IEMgLTIgLTAuODMzMzEyIC0yIDAuODMzMzEyIC0yIDIuNSAiIHRyYW5zZm9ybT0ibWF0cml4KDYwLDAsMCwtNTkuOCwxNTAsMTQ5LjUpIi8+CjxwYXRoIHN0eWxlPSJmaWxsOm5vbmU7c3Ryb2tlLXdpZHRoOjAuMDY7c3Ryb2tlLWxpbmVjYXA6YnV0dDtzdHJva2UtbGluZWpvaW46bWl0ZXI7c3Ryb2tlOnJnYigzNC41MDk4MDQlLDc2Ljg2Mjc0NSUsODYuNjY2NjY3JSk7c3Ryb2tlLW9wYWNpdHk6MTtzdHJva2UtbWl0ZXJsaW1pdDoxMDsiIGQ9Ik0gLTIgLTEuMDAwMDEzIEMgLTEuMDk3MDcgLTAuMzk4MDcyIC0wLjE5NDE0MSAwLjIwMzkzNSAwLjcwODc4OSAwLjgwNTg3NiAiIHRyYW5zZm9ybT0ibWF0cml4KDYwLDAsMCwtNTkuOCwxNTAsMTQ5LjUpIi8+CjxwYXRoIHN0eWxlPSIgc3Ryb2tlOm5vbmU7ZmlsbC1ydWxlOm5vbnplcm87ZmlsbDpyZ2IoMzQuNTA5ODA0JSw3Ni44NjI3NDUlLDg2LjY2NjY2NyUpO2ZpbGwtb3BhY2l0eToxOyIgZD0iTSAyMTAgODkuNjk5MjE5IEMgMjAyLjIzNDM3NSA5MC42Njc5NjkgMTk0LjQ2ODc1IDkxLjYzNjcxOSAxODYuNzAzMTI1IDkyLjYwMTU2MiBDIDE5MC41ODU5MzggOTguNDA2MjUgMTk0LjQ2ODc1IDEwNC4yMTA5MzggMTk4LjM1MTU2MiAxMTAuMDE1NjI1IEMgMjAyLjIzNDM3NSAxMDMuMjQ2MDk0IDIwNi4xMTcxODggOTYuNDcyNjU2IDIxMCA4OS42OTkyMTkgWiBNIDIxMCA4OS42OTkyMTkgIi8+CjxwYXRoIHN0eWxlPSJmaWxsOm5vbmU7c3Ryb2tlLXdpZHRoOjAuMDY7c3Ryb2tlLWxpbmVjYXA6YnV0dDtzdHJva2UtbGluZWpvaW46bWl0ZXI7c3Ryb2tlOnJnYigxMDAlLDUyLjU0OTAyJSwxOC40MzEzNzMlKTtzdHJva2Utb3BhY2l0eToxO3N0cm9rZS1taXRlcmxpbWl0OjEwOyIgZD0iTSAtMiAtMS4wMDAwMTMgQyAtMS40Mzc2OTUgLTEuMjgxMTU5IC0wLjg3NTM5MSAtMS41NjIzMDQgLTAuMzEzMDIxIC0xLjg0MzQ1ICIgdHJhbnNmb3JtPSJtYXRyaXgoNjAsMCwwLC01OS44LDE1MCwxNDkuNSkiLz4KPHBhdGggc3R5bGU9IiBzdHJva2U6bm9uZTtmaWxsLXJ1bGU6bm9uemVybztmaWxsOnJnYigxMDAlLDUyLjU0OTAyJSwxOC40MzEzNzMlKTtmaWxsLW9wYWNpdHk6MTsiIGQ9Ik0gMTUwIDI2OS4xMDE1NjIgQyAxNDUuMzA0Njg4IDI2Mi44NTkzNzUgMTQwLjYwOTM3NSAyNTYuNjIxMDk0IDEzNS45MTQwNjIgMjUwLjM3ODkwNiBDIDEzMi43ODEyNSAyNTYuNjIxMDk0IDEyOS42NTIzNDQgMjYyLjg1OTM3NSAxMjYuNTE5NTMxIDI2OS4xMDE1NjIgQyAxMzQuMzQ3NjU2IDI2OS4xMDE1NjIgMTQyLjE3MTg3NSAyNjkuMTAxNTYyIDE1MCAyNjkuMTAxNTYyIFogTSAxNTAgMjY5LjEwMTU2MiAiLz4KPHBhdGggc3R5bGU9IiBzdHJva2U6bm9uZTtmaWxsLXJ1bGU6bm9uemVybztmaWxsOnJnYigzNC41MDk4MDQlLDc2Ljg2Mjc0NSUsODYuNjY2NjY3JSk7ZmlsbC1vcGFjaXR5OjE7IiBkPSJNIDEzNy4yODUxNTYgMTU4Ljg1MTU2MiBDIDEzNi44NjcxODggMTU5LjIzODI4MSAxMzUuODgyODEyIDE2MC4wNzAzMTIgMTM1Ljg4MjgxMiAxNjAuNjA1NDY5IEMgMTM1Ljg4MjgxMiAxNjAuOTA2MjUgMTM2LjE3OTY4OCAxNjEuMjAzMTI1IDEzNi40ODA0NjkgMTYxLjIwMzEyNSBDIDEzNi43NDYwOTQgMTYxLjIwMzEyNSAxMzYuODk4NDM4IDE2MC45OTYwOTQgMTM3LjA0Njg3NSAxNjAuODE2NDA2IEMgMTM3LjQwNjI1IDE2MC4zNjcxODggMTM4LjA5Mzc1IDE1OS41MzUxNTYgMTM5LjQwNjI1IDE1OC44Nzg5MDYgQyAxMzkuNjE3MTg4IDE1OC43NjE3MTkgMTM5LjkxNzk2OSAxNTguNjEzMjgxIDEzOS45MTc5NjkgMTU4LjI1MzkwNiBDIDEzOS45MTc5NjkgMTU3Ljk1NzAzMSAxMzkuNzA3MDMxIDE1Ny44MDg1OTQgMTM5LjQ5NjA5NCAxNTcuNjYwMTU2IEMgMTM4LjgzOTg0NCAxNTcuMjEwOTM4IDEzOC41MTE3MTkgMTU2LjY3NTc4MSAxMzguMjczNDM4IDE1NS45NjA5MzggQyAxMzguMjEwOTM4IDE1NS42OTE0MDYgMTM4LjA5Mzc1IDE1NS4zMDQ2ODggMTM3LjY3NTc4MSAxNTUuMzA0Njg4IEMgMTM3LjI1NzgxMiAxNTUuMzA0Njg4IDEzNy4wNzgxMjUgMTU1LjY5MTQwNiAxMzcuMDc4MTI1IDE1NS45Mjk2ODggQyAxMzcuMDc4MTI1IDE1Ni4wNzgxMjUgMTM3LjMxNjQwNiAxNTcuMDMxMjUgMTM3Ljc5Mjk2OSAxNTcuNjYwMTU2IEMgMTM0LjQzNzUgMTU3LjY2MDE1NiAxMzEuMDc4MTI1IDE1Ny42NjAxNTYgMTI3LjcyMjY1NiAxNTcuNjYwMTU2IEMgMTI3LjIxNDg0NCAxNTcuNjYwMTU2IDEyNi42NzU3ODEgMTU3LjY2MDE1NiAxMjYuNjc1NzgxIDE1OC4yNTM5MDYgQyAxMjYuNjc1NzgxIDE1OC44NTE1NjIgMTI3LjIxNDg0NCAxNTguODUxNTYyIDEyNy43MjI2NTYgMTU4Ljg1MTU2MiBDIDEzMC45MTAxNTYgMTU4Ljg1MTU2MiAxMzQuMDk3NjU2IDE1OC44NTE1NjIgMTM3LjI4NTE1NiAxNTguODUxNTYyIFogTSAxMzcuMjg1MTU2IDE1OC44NTE1NjIgIi8+CjxwYXRoIHN0eWxlPSIgc3Ryb2tlOm5vbmU7ZmlsbC1ydWxlOm5vbnplcm87ZmlsbDpyZ2IoMzQuNTA5ODA0JSw3Ni44NjI3NDUlLDg2LjY2NjY2NyUpO2ZpbGwtb3BhY2l0eToxOyIgZD0iTSAxMzYuMzgyODEyIDE2NS40OTIxODggQyAxMzYuMzgyODEyIDE2My44ODI4MTIgMTM1LjYwNTQ2OSAxNjMuNDA2MjUgMTM1LjA3MDMxMiAxNjMuNDA2MjUgQyAxMzQuMzIwMzEyIDE2My40MDYyNSAxMzMuNjA1NDY5IDE2NC4xODM1OTQgMTMzLjYwNTQ2OSAxNjQuODM1OTM4IEMgMTMzLjYwNTQ2OSAxNjUuMjIyNjU2IDEzMy43NTM5MDYgMTY1LjQwMjM0NCAxMzQuMDgyMDMxIDE2NS43MzA0NjkgQyAxMzQuNzEwOTM4IDE2Ni4zMjgxMjUgMTM1LjA5NzY1NiAxNjcuMTAxNTYyIDEzNS4wOTc2NTYgMTY4LjE3MTg3NSBDIDEzNS4wOTc2NTYgMTY5LjQyNTc4MSAxMzMuMjc3MzQ0IDE3Ni4yNDYwOTQgMTI5Ljc3NzM0NCAxNzYuMjQ2MDk0IEMgMTI4LjI1MzkwNiAxNzYuMjQ2MDk0IDEyNy41NjY0MDYgMTc1LjIwMzEyNSAxMjcuNTY2NDA2IDE3My42NTYyNSBDIDEyNy41NjY0MDYgMTcxLjk4ODI4MSAxMjguMzc1IDE2OS44MTI1IDEyOS4zMDA3ODEgMTY3LjMzOTg0NCBDIDEyOS41MTE3MTkgMTY2LjgzMjAzMSAxMjkuNjYwMTU2IDE2Ni40MTQwNjIgMTI5LjY2MDE1NiAxNjUuODUxNTYyIEMgMTI5LjY2MDE1NiAxNjQuNTA3ODEyIDEyOC43MDMxMjUgMTYzLjQwNjI1IDEyNy4yMDcwMzEgMTYzLjQwNjI1IEMgMTI0LjM5ODQzOCAxNjMuNDA2MjUgMTIzLjI2MTcxOSAxNjcuNzI2NTYyIDEyMy4yNjE3MTkgMTY3Ljk5NjA5NCBDIDEyMy4yNjE3MTkgMTY4LjI5Mjk2OSAxMjMuNTYyNSAxNjguMjkyOTY5IDEyMy42MjEwOTQgMTY4LjI5Mjk2OSBDIDEyMy45MjE4NzUgMTY4LjI5Mjk2OSAxMjMuOTQ5MjE5IDE2OC4yMzQzNzUgMTI0LjEwMTU2MiAxNjcuNzU3ODEyIEMgMTI0Ljk2ODc1IDE2NC43NDYwOTQgMTI2LjI1MzkwNiAxNjQuMDYyNSAxMjcuMTE3MTg4IDE2NC4wNjI1IEMgMTI3LjM1OTM3NSAxNjQuMDYyNSAxMjcuODY3MTg4IDE2NC4wNjI1IDEyNy44NjcxODggMTY1LjAxNTYyNSBDIDEyNy44NjcxODggMTY1Ljc2MTcxOSAxMjcuNTY2NDA2IDE2Ni41NjY0MDYgMTI3LjM1OTM3NSAxNjcuMTAxNTYyIEMgMTI2LjA0Mjk2OSAxNzAuNTU0Njg4IDEyNS42NTYyNSAxNzEuOTI1NzgxIDEyNS42NTYyNSAxNzMuMjA3MDMxIEMgMTI1LjY1NjI1IDE3Ni40MjU3ODEgMTI4LjI4NTE1NiAxNzYuOTAyMzQ0IDEyOS42NjAxNTYgMTc2LjkwMjM0NCBDIDEzNC42Nzk2ODggMTc2LjkwMjM0NCAxMzYuMzgyODEyIDE2Ny4wNDI5NjkgMTM2LjM4MjgxMiAxNjUuNDkyMTg4IFogTSAxMzYuMzgyODEyIDE2NS40OTIxODggIi8+CjxwYXRoIHN0eWxlPSIgc3Ryb2tlOm5vbmU7ZmlsbC1ydWxlOm5vbnplcm87ZmlsbDpyZ2IoMTAwJSw1Mi41NDkwMiUsMTguNDMxMzczJSk7ZmlsbC1vcGFjaXR5OjE7IiBkPSJNIDc3Ljk3NjU2MiAyNTAuMDIzNDM4IEMgNzcuNTU4NTk0IDI1MC40MTAxNTYgNzYuNTc0MjE5IDI1MS4yNDYwOTQgNzYuNTc0MjE5IDI1MS43ODEyNSBDIDc2LjU3NDIxOSAyNTIuMDgyMDMxIDc2Ljg3MTA5NCAyNTIuMzc4OTA2IDc3LjE3MTg3NSAyNTIuMzc4OTA2IEMgNzcuNDQxNDA2IDI1Mi4zNzg5MDYgNzcuNTg5ODQ0IDI1Mi4xNjc5NjkgNzcuNzM4MjgxIDI1MS45OTIxODggQyA3OC4wOTc2NTYgMjUxLjU0Mjk2OSA3OC43ODUxNTYgMjUwLjcxMDkzOCA4MC4xMDE1NjIgMjUwLjA1NDY4OCBDIDgwLjMwODU5NCAyNDkuOTMzNTk0IDgwLjYwOTM3NSAyNDkuNzg1MTU2IDgwLjYwOTM3NSAyNDkuNDI5Njg4IEMgODAuNjA5Mzc1IDI0OS4xMzI4MTIgODAuMzk4NDM4IDI0OC45ODA0NjkgODAuMTkxNDA2IDI0OC44MzIwMzEgQyA3OS41MzEyNSAyNDguMzg2NzE5IDc5LjIwMzEyNSAyNDcuODUxNTYyIDc4Ljk2NDg0NCAyNDcuMTM2NzE5IEMgNzguOTA2MjUgMjQ2Ljg2NzE4OCA3OC43ODUxNTYgMjQ2LjQ4MDQ2OSA3OC4zNjcxODggMjQ2LjQ4MDQ2OSBDIDc3Ljk0OTIxOSAyNDYuNDgwNDY5IDc3Ljc2OTUzMSAyNDYuODY3MTg4IDc3Ljc2OTUzMSAyNDcuMTA1NDY5IEMgNzcuNzY5NTMxIDI0Ny4yNTM5MDYgNzguMDA3ODEyIDI0OC4yMDcwMzEgNzguNDg4MjgxIDI0OC44MzIwMzEgQyA3NS4xMjg5MDYgMjQ4LjgzMjAzMSA3MS43NzM0MzggMjQ4LjgzMjAzMSA2OC40MTQwNjIgMjQ4LjgzMjAzMSBDIDY3LjkwNjI1IDI0OC44MzIwMzEgNjcuMzY3MTg4IDI0OC44MzIwMzEgNjcuMzY3MTg4IDI0OS40Mjk2ODggQyA2Ny4zNjcxODggMjUwLjAyMzQzOCA2Ny45MDYyNSAyNTAuMDIzNDM4IDY4LjQxNDA2MiAyNTAuMDIzNDM4IEMgNzEuNjAxNTYyIDI1MC4wMjM0MzggNzQuNzg5MDYyIDI1MC4wMjM0MzggNzcuOTc2NTYyIDI1MC4wMjM0MzggWiBNIDc3Ljk3NjU2MiAyNTAuMDIzNDM4ICIvPgo8cGF0aCBzdHlsZT0iIHN0cm9rZTpub25lO2ZpbGwtcnVsZTpub256ZXJvO2ZpbGw6cmdiKDEwMCUsNTIuNTQ5MDIlLDE4LjQzMTM3MyUpO2ZpbGwtb3BhY2l0eToxOyIgZD0iTSA3MS45MTQwNjIgMjU3LjY1MjM0NCBDIDcyLjA2NjQwNiAyNTYuOTk2MDk0IDcyLjM2MzI4MSAyNTUuODk0NTMxIDcyLjM2MzI4MSAyNTUuNzE0ODQ0IEMgNzIuMzYzMjgxIDI1NS4xNzk2ODggNzEuOTQ1MzEyIDI1NC45MTAxNTYgNzEuNDk2MDk0IDI1NC45MTAxNTYgQyA3MS4xNDA2MjUgMjU0LjkxMDE1NiA3MC42MDE1NjIgMjU1LjE0ODQzOCA3MC4zOTA2MjUgMjU1Ljc0MjE4OCBDIDcwLjMwMDc4MSAyNTUuOTUzMTI1IDY4Ljg5ODQzOCAyNjEuNjQwNjI1IDY4LjY4NzUgMjYyLjQxNzk2OSBDIDY4LjQ4MDQ2OSAyNjMuMzA4NTk0IDY4LjQxNzk2OSAyNjMuODQ3NjU2IDY4LjQxNzk2OSAyNjQuMzgyODEyIEMgNjguNDE3OTY5IDI2NC43MTA5MzggNjguNDE3OTY5IDI2NC43Njk1MzEgNjguNDQ5MjE5IDI2NC45MTc5NjkgQyA2Ny43NjE3MTkgMjY2LjQ5NjA5NCA2Ni44NjMyODEgMjY3LjQyMTg3NSA2NS42OTkyMTkgMjY3LjQyMTg3NSBDIDYzLjMwODU5NCAyNjcuNDIxODc1IDYzLjMwODU5NCAyNjUuMjE0ODQ0IDYzLjMwODU5NCAyNjQuNzEwOTM4IEMgNjMuMzA4NTk0IDI2My43NTc4MTIgNjMuNDU3MDMxIDI2Mi41OTM3NSA2NC44NjMyODEgMjU4LjkyOTY4OCBDIDY1LjE5MTQwNiAyNTguMDM5MDYyIDY1LjM3MTA5NCAyNTcuNjIxMDk0IDY1LjM3MTA5NCAyNTcuMDIzNDM4IEMgNjUuMzcxMDk0IDI1NS42ODM1OTQgNjQuMzgyODEyIDI1NC41ODIwMzEgNjIuOTE3OTY5IDI1NC41ODIwMzEgQyA2MC4wODIwMzEgMjU0LjU4MjAzMSA1OC45NzI2NTYgMjU4LjkwMjM0NCA1OC45NzI2NTYgMjU5LjE2Nzk2OSBDIDU4Ljk3MjY1NiAyNTkuNDY4NzUgNTkuMjczNDM4IDI1OS40Njg3NSA1OS4zMzIwMzEgMjU5LjQ2ODc1IEMgNTkuNjMyODEyIDI1OS40Njg3NSA1OS42NjAxNTYgMjU5LjQwNjI1IDU5LjgxMjUgMjU4LjkyOTY4OCBDIDYwLjYxNzE4OCAyNTYuMTYwMTU2IDYxLjc4NTE1NiAyNTUuMjM4MjgxIDYyLjgyODEyNSAyNTUuMjM4MjgxIEMgNjMuMDk3NjU2IDI1NS4yMzgyODEgNjMuNTc4MTI1IDI1NS4yNjU2MjUgNjMuNTc4MTI1IDI1Ni4yMTg3NSBDIDYzLjU3ODEyNSAyNTYuOTY0ODQ0IDYzLjI1IDI1Ny44MDA3ODEgNjMuMDM5MDYyIDI1OC4zMDQ2ODggQyA2MS43MjI2NTYgMjYxLjgyMDMxMiA2MS4zNjcxODggMjYzLjE5MTQwNiA2MS4zNjcxODggMjY0LjMyNDIxOSBDIDYxLjM2NzE4OCAyNjcuMDM1MTU2IDYzLjM2NzE4OCAyNjguMDc4MTI1IDY1LjYwOTM3NSAyNjguMDc4MTI1IEMgNjYuMTE3MTg4IDI2OC4wNzgxMjUgNjcuNTIzNDM4IDI2OC4wNzgxMjUgNjguNzE4NzUgMjY1Ljk5MjE4OCBDIDY5LjQ5NjA5NCAyNjcuODk4NDM4IDcxLjU1ODU5NCAyNjguMDc4MTI1IDcyLjQ1MzEyNSAyNjguMDc4MTI1IEMgNzQuNjk1MzEyIDI2OC4wNzgxMjUgNzYuMDExNzE5IDI2Ni4xOTkyMTkgNzYuNzg5MDYyIDI2NC40MTQwNjIgQyA3Ny44MDQ2ODggMjYyLjA4OTg0NCA3OC43NjE3MTkgMjU4LjA5NzY1NiA3OC43NjE3MTkgMjU2LjY2Nzk2OSBDIDc4Ljc2MTcxOSAyNTUuMDI3MzQ0IDc3Ljk1MzEyNSAyNTQuNTgyMDMxIDc3LjQ0NTMxMiAyNTQuNTgyMDMxIEMgNzYuNjk5MjE5IDI1NC41ODIwMzEgNzUuOTQ5MjE5IDI1NS4zNTU0NjkgNzUuOTQ5MjE5IDI1Ni4wMTE3MTkgQyA3NS45NDkyMTkgMjU2LjM5ODQzOCA3Ni4xMjg5MDYgMjU2LjU3ODEyNSA3Ni4zOTg0MzggMjU2LjgxNjQwNiBDIDc2LjcyNjU2MiAyNTcuMTQ0NTMxIDc3LjQ3NjU2MiAyNTcuOTE3OTY5IDc3LjQ3NjU2MiAyNTkuMzQ3NjU2IEMgNzcuNDc2NTYyIDI2MC4zNTkzNzUgNzYuNjA5Mzc1IDI2My4yODEyNSA3NS44MzIwMzEgMjY0LjgwMDc4MSBDIDc1LjA1NDY4OCAyNjYuMzc4OTA2IDc0LjAwNzgxMiAyNjcuNDIxODc1IDcyLjU0Mjk2OSAyNjcuNDIxODc1IEMgNzEuMTQwNjI1IDI2Ny40MjE4NzUgNzAuMzMyMDMxIDI2Ni41MjczNDQgNzAuMzMyMDMxIDI2NC44MjgxMjUgQyA3MC4zMzIwMzEgMjYzLjk5NjA5NCA3MC41NDI5NjkgMjYzLjA3MDMxMiA3MC42NjAxNTYgMjYyLjY1NjI1IEMgNzEuMDc4MTI1IDI2MC45ODgyODEgNzEuNDk2MDk0IDI1OS4zMjAzMTIgNzEuOTE0MDYyIDI1Ny42NTIzNDQgWiBNIDcxLjkxNDA2MiAyNTcuNjUyMzQ0ICIvPgo8L2c+Cjwvc3ZnPgo=)\n"
   ]
  },
  {
   "cell_type": "markdown",
   "id": "51fdf1cc",
   "metadata": {},
   "source": [
    "The dot product calculates how much two vectors align, given their direction and magnitude. We can calculate the dot product using the `dot()` function between two vectors. When we use the `@` operator on a matrix, it is performing several dot products. But let's take a look at just one dot product. "
   ]
  },
  {
   "cell_type": "code",
   "execution_count": null,
   "id": "d347c7a9",
   "metadata": {},
   "outputs": [],
   "source": [
    "import numpy as np \n",
    "\n",
    "v = np.array([3,2])\n",
    "w = np.array([2,-1])\n",
    "\n",
    "v.dot(w)"
   ]
  },
  {
   "cell_type": "markdown",
   "id": "5d626709",
   "metadata": {},
   "source": [
    "Calculating this by hand, we can see this familiar operation of adding and multiplying elements together between both vectors, just like we did with matrix-vector multiplication or matrix multiplication."
   ]
  },
  {
   "cell_type": "markdown",
   "id": "e4c8a9df",
   "metadata": {},
   "source": [
    "$\n",
    "\\begin{aligned}\n",
    "\\vec{v} \\cdot \\vec{w} &= \\begin{bmatrix} 3 \\\\ 2 \\end{bmatrix} \\cdot \\begin{bmatrix} 2 \\\\ -1 \\end{bmatrix} \\\\\n",
    "&= (3 \\cdot 2) + (2 \\cdot -1) \\\\\n",
    "&= 4\n",
    "\\end{aligned}\n",
    "$"
   ]
  },
  {
   "cell_type": "markdown",
   "id": "e278dcbb",
   "metadata": {},
   "source": [
    "But what exactly is the dot product from a geometric sense? Pretend you shined a flashlight on $ \\vec{w} $ so its shadow strikes $ \\vec{v} $ exactly at a right angle (which is what we call *orthogonal*)."
   ]
  },
  {
   "cell_type": "markdown",
   "id": "6b874ecb",
   "metadata": {},
   "source": [
    "![img](data:image/svg+xml;base64,PD94bWwgdmVyc2lvbj0iMS4wIiBlbmNvZGluZz0iVVRGLTgiPz4KPHN2ZyB4bWxucz0iaHR0cDovL3d3dy53My5vcmcvMjAwMC9zdmciIHhtbG5zOnhsaW5rPSJodHRwOi8vd3d3LnczLm9yZy8xOTk5L3hsaW5rIiB3aWR0aD0iMzAwcHQiIGhlaWdodD0iMjk5cHQiIHZpZXdCb3g9IjAgMCAzMDAgMjk5IiB2ZXJzaW9uPSIxLjEiPgo8ZyBpZD0ic3VyZmFjZTEiPgo8cGF0aCBzdHlsZT0iIHN0cm9rZTpub25lO2ZpbGwtcnVsZTpub256ZXJvO2ZpbGw6cmdiKDEwMCUsMTAwJSwxMDAlKTtmaWxsLW9wYWNpdHk6MC43NTsiIGQ9Ik0gMzAwIDAgQyAyMDAgMCAxMDAgMCAwIDAgQyAwIDk5LjY2Nzk2OSAwIDE5OS4zMzIwMzEgMCAyOTkgQyAxMDAgMjk5IDIwMCAyOTkgMzAwIDI5OSBDIDMwMCAxOTkuMzMyMDMxIDMwMCA5OS42Njc5NjkgMzAwIDAgWiBNIDMwMCAwICIvPgo8cGF0aCBzdHlsZT0iZmlsbDpub25lO3N0cm9rZS13aWR0aDowLjAyO3N0cm9rZS1saW5lY2FwOmJ1dHQ7c3Ryb2tlLWxpbmVqb2luOm1pdGVyO3N0cm9rZTpyZ2IoNzMuMzMzMzMzJSw3My4zMzMzMzMlLDczLjMzMzMzMyUpO3N0cm9rZS1vcGFjaXR5OjE7c3Ryb2tlLW1pdGVybGltaXQ6MTA7IiBkPSJNIC0yLjUgLTEuMDAwMDEzIEMgLTAuODMzMzMzIC0xLjAwMDAxMyAwLjgzMzMzMyAtMS4wMDAwMTMgMi41IC0xLjAwMDAxMyAiIHRyYW5zZm9ybT0ibWF0cml4KDYwLDAsMCwtNTkuOCwxNTAsMTQ5LjUpIi8+CjxwYXRoIHN0eWxlPSJmaWxsOm5vbmU7c3Ryb2tlLXdpZHRoOjAuMDI7c3Ryb2tlLWxpbmVjYXA6YnV0dDtzdHJva2UtbGluZWpvaW46bWl0ZXI7c3Ryb2tlOnJnYig3My4zMzMzMzMlLDczLjMzMzMzMyUsNzMuMzMzMzMzJSk7c3Ryb2tlLW9wYWNpdHk6MTtzdHJva2UtbWl0ZXJsaW1pdDoxMDsiIGQ9Ik0gLTIuNSAwIEMgLTAuODMzMzMzIDAgMC44MzMzMzMgMCAyLjUgMCAiIHRyYW5zZm9ybT0ibWF0cml4KDYwLDAsMCwtNTkuOCwxNTAsMTQ5LjUpIi8+CjxwYXRoIHN0eWxlPSJmaWxsOm5vbmU7c3Ryb2tlLXdpZHRoOjAuMDI7c3Ryb2tlLWxpbmVjYXA6YnV0dDtzdHJva2UtbGluZWpvaW46bWl0ZXI7c3Ryb2tlOnJnYig3My4zMzMzMzMlLDczLjMzMzMzMyUsNzMuMzMzMzMzJSk7c3Ryb2tlLW9wYWNpdHk6MTtzdHJva2UtbWl0ZXJsaW1pdDoxMDsiIGQ9Ik0gLTIuNSAxLjAwMDAxMyBDIC0wLjgzMzMzMyAxLjAwMDAxMyAwLjgzMzMzMyAxLjAwMDAxMyAyLjUgMS4wMDAwMTMgIiB0cmFuc2Zvcm09Im1hdHJpeCg2MCwwLDAsLTU5LjgsMTUwLDE0OS41KSIvPgo8cGF0aCBzdHlsZT0iZmlsbDpub25lO3N0cm9rZS13aWR0aDowLjAyO3N0cm9rZS1saW5lY2FwOmJ1dHQ7c3Ryb2tlLWxpbmVqb2luOm1pdGVyO3N0cm9rZTpyZ2IoNzMuMzMzMzMzJSw3My4zMzMzMzMlLDczLjMzMzMzMyUpO3N0cm9rZS1vcGFjaXR5OjE7c3Ryb2tlLW1pdGVybGltaXQ6MTA7IiBkPSJNIC0yLjUgMi4wMDAwMjYgQyAtMC44MzMzMzMgMi4wMDAwMjYgMC44MzMzMzMgMi4wMDAwMjYgMi41IDIuMDAwMDI2ICIgdHJhbnNmb3JtPSJtYXRyaXgoNjAsMCwwLC01OS44LDE1MCwxNDkuNSkiLz4KPHBhdGggc3R5bGU9ImZpbGw6bm9uZTtzdHJva2Utd2lkdGg6MC4wMjtzdHJva2UtbGluZWNhcDpidXR0O3N0cm9rZS1saW5lam9pbjptaXRlcjtzdHJva2U6cmdiKDczLjMzMzMzMyUsNzMuMzMzMzMzJSw3My4zMzMzMzMlKTtzdHJva2Utb3BhY2l0eToxO3N0cm9rZS1taXRlcmxpbWl0OjEwOyIgZD0iTSAtMi41IC0yLjAwMDAyNiBDIC0wLjgzMzMzMyAtMi4wMDAwMjYgMC44MzMzMzMgLTIuMDAwMDI2IDIuNSAtMi4wMDAwMjYgIiB0cmFuc2Zvcm09Im1hdHJpeCg2MCwwLDAsLTU5LjgsMTUwLDE0OS41KSIvPgo8cGF0aCBzdHlsZT0iZmlsbDpub25lO3N0cm9rZS13aWR0aDowLjAyO3N0cm9rZS1saW5lY2FwOmJ1dHQ7c3Ryb2tlLWxpbmVqb2luOm1pdGVyO3N0cm9rZTpyZ2IoNzMuMzMzMzMzJSw3My4zMzMzMzMlLDczLjMzMzMzMyUpO3N0cm9rZS1vcGFjaXR5OjE7c3Ryb2tlLW1pdGVybGltaXQ6MTA7IiBkPSJNIC0yIC0yLjUgQyAtMiAtMC44MzMzMTIgLTIgMC44MzMzMTIgLTIgMi41ICIgdHJhbnNmb3JtPSJtYXRyaXgoNjAsMCwwLC01OS44LDE1MCwxNDkuNSkiLz4KPHBhdGggc3R5bGU9ImZpbGw6bm9uZTtzdHJva2Utd2lkdGg6MC4wMjtzdHJva2UtbGluZWNhcDpidXR0O3N0cm9rZS1saW5lam9pbjptaXRlcjtzdHJva2U6cmdiKDczLjMzMzMzMyUsNzMuMzMzMzMzJSw3My4zMzMzMzMlKTtzdHJva2Utb3BhY2l0eToxO3N0cm9rZS1taXRlcmxpbWl0OjEwOyIgZD0iTSAtMSAtMi41IEMgLTEgLTAuODMzMzEyIC0xIDAuODMzMzEyIC0xIDIuNSAiIHRyYW5zZm9ybT0ibWF0cml4KDYwLDAsMCwtNTkuOCwxNTAsMTQ5LjUpIi8+CjxwYXRoIHN0eWxlPSJmaWxsOm5vbmU7c3Ryb2tlLXdpZHRoOjAuMDI7c3Ryb2tlLWxpbmVjYXA6YnV0dDtzdHJva2UtbGluZWpvaW46bWl0ZXI7c3Ryb2tlOnJnYig3My4zMzMzMzMlLDczLjMzMzMzMyUsNzMuMzMzMzMzJSk7c3Ryb2tlLW9wYWNpdHk6MTtzdHJva2UtbWl0ZXJsaW1pdDoxMDsiIGQ9Ik0gMCAtMi41IEMgMCAtMC44MzMzMTIgMCAwLjgzMzMxMiAwIDIuNSAiIHRyYW5zZm9ybT0ibWF0cml4KDYwLDAsMCwtNTkuOCwxNTAsMTQ5LjUpIi8+CjxwYXRoIHN0eWxlPSJmaWxsOm5vbmU7c3Ryb2tlLXdpZHRoOjAuMDI7c3Ryb2tlLWxpbmVjYXA6YnV0dDtzdHJva2UtbGluZWpvaW46bWl0ZXI7c3Ryb2tlOnJnYig3My4zMzMzMzMlLDczLjMzMzMzMyUsNzMuMzMzMzMzJSk7c3Ryb2tlLW9wYWNpdHk6MTtzdHJva2UtbWl0ZXJsaW1pdDoxMDsiIGQ9Ik0gMSAtMi41IEMgMSAtMC44MzMzMTIgMSAwLjgzMzMxMiAxIDIuNSAiIHRyYW5zZm9ybT0ibWF0cml4KDYwLDAsMCwtNTkuOCwxNTAsMTQ5LjUpIi8+CjxwYXRoIHN0eWxlPSJmaWxsOm5vbmU7c3Ryb2tlLXdpZHRoOjAuMDI7c3Ryb2tlLWxpbmVjYXA6YnV0dDtzdHJva2UtbGluZWpvaW46bWl0ZXI7c3Ryb2tlOnJnYig3My4zMzMzMzMlLDczLjMzMzMzMyUsNzMuMzMzMzMzJSk7c3Ryb2tlLW9wYWNpdHk6MTtzdHJva2UtbWl0ZXJsaW1pdDoxMDsiIGQ9Ik0gMiAtMi41IEMgMiAtMC44MzMzMTIgMiAwLjgzMzMxMiAyIDIuNSAiIHRyYW5zZm9ybT0ibWF0cml4KDYwLDAsMCwtNTkuOCwxNTAsMTQ5LjUpIi8+CjxwYXRoIHN0eWxlPSJmaWxsOm5vbmU7c3Ryb2tlLXdpZHRoOjAuMDQ7c3Ryb2tlLWxpbmVjYXA6YnV0dDtzdHJva2UtbGluZWpvaW46bWl0ZXI7c3Ryb2tlOnJnYigwJSwwJSwwJSk7c3Ryb2tlLW9wYWNpdHk6MTtzdHJva2UtbWl0ZXJsaW1pdDoxMDsiIGQ9Ik0gLTIuNSAtMS4wMDAwMTMgQyAtMC44MzMzMzMgLTEuMDAwMDEzIDAuODMzMzMzIC0xLjAwMDAxMyAyLjUgLTEuMDAwMDEzICIgdHJhbnNmb3JtPSJtYXRyaXgoNjAsMCwwLC01OS44LDE1MCwxNDkuNSkiLz4KPHBhdGggc3R5bGU9ImZpbGw6bm9uZTtzdHJva2Utd2lkdGg6MC4wNDtzdHJva2UtbGluZWNhcDpidXR0O3N0cm9rZS1saW5lam9pbjptaXRlcjtzdHJva2U6cmdiKDAlLDAlLDAlKTtzdHJva2Utb3BhY2l0eToxO3N0cm9rZS1taXRlcmxpbWl0OjEwOyIgZD0iTSAtMiAtMi41IEMgLTIgLTAuODMzMzEyIC0yIDAuODMzMzEyIC0yIDIuNSAiIHRyYW5zZm9ybT0ibWF0cml4KDYwLDAsMCwtNTkuOCwxNTAsMTQ5LjUpIi8+CjxwYXRoIHN0eWxlPSJmaWxsOm5vbmU7c3Ryb2tlLXdpZHRoOjAuMDY7c3Ryb2tlLWxpbmVjYXA6YnV0dDtzdHJva2UtbGluZWpvaW46bWl0ZXI7c3Ryb2tlOnJnYigzNC41MDk4MDQlLDc2Ljg2Mjc0NSUsODYuNjY2NjY3JSk7c3Ryb2tlLW9wYWNpdHk6MTtzdHJva2UtbWl0ZXJsaW1pdDoxMDsiIGQ9Ik0gLTIgLTEuMDAwMDEzIEMgLTEuMDk3MDcgLTAuMzk4MDcyIC0wLjE5NDE0MSAwLjIwMzkzNSAwLjcwODc4OSAwLjgwNTg3NiAiIHRyYW5zZm9ybT0ibWF0cml4KDYwLDAsMCwtNTkuOCwxNTAsMTQ5LjUpIi8+CjxwYXRoIHN0eWxlPSIgc3Ryb2tlOm5vbmU7ZmlsbC1ydWxlOm5vbnplcm87ZmlsbDpyZ2IoMzQuNTA5ODA0JSw3Ni44NjI3NDUlLDg2LjY2NjY2NyUpO2ZpbGwtb3BhY2l0eToxOyIgZD0iTSAyMTAgODkuNjk5MjE5IEMgMjAyLjIzNDM3NSA5MC42Njc5NjkgMTk0LjQ2ODc1IDkxLjYzNjcxOSAxODYuNzAzMTI1IDkyLjYwMTU2MiBDIDE5MC41ODU5MzggOTguNDA2MjUgMTk0LjQ2ODc1IDEwNC4yMTA5MzggMTk4LjM1MTU2MiAxMTAuMDE1NjI1IEMgMjAyLjIzNDM3NSAxMDMuMjQ2MDk0IDIwNi4xMTcxODggOTYuNDcyNjU2IDIxMCA4OS42OTkyMTkgWiBNIDIxMCA4OS42OTkyMTkgIi8+CjxwYXRoIHN0eWxlPSJmaWxsOm5vbmU7c3Ryb2tlLXdpZHRoOjAuMDY7c3Ryb2tlLWxpbmVjYXA6YnV0dDtzdHJva2UtbGluZWpvaW46bWl0ZXI7c3Ryb2tlOnJnYigxMDAlLDUyLjU0OTAyJSwxOC40MzEzNzMlKTtzdHJva2Utb3BhY2l0eToxO3N0cm9rZS1taXRlcmxpbWl0OjEwOyIgZD0iTSAtMiAtMS4wMDAwMTMgQyAtMS40Mzc2OTUgLTEuMjgxMTU5IC0wLjg3NTM5MSAtMS41NjIzMDQgLTAuMzEzMDIxIC0xLjg0MzQ1ICIgdHJhbnNmb3JtPSJtYXRyaXgoNjAsMCwwLC01OS44LDE1MCwxNDkuNSkiLz4KPHBhdGggc3R5bGU9IiBzdHJva2U6bm9uZTtmaWxsLXJ1bGU6bm9uemVybztmaWxsOnJnYigxMDAlLDUyLjU0OTAyJSwxOC40MzEzNzMlKTtmaWxsLW9wYWNpdHk6MTsiIGQ9Ik0gMTUwIDI2OS4xMDE1NjIgQyAxNDUuMzA0Njg4IDI2Mi44NTkzNzUgMTQwLjYwOTM3NSAyNTYuNjIxMDk0IDEzNS45MTQwNjIgMjUwLjM3ODkwNiBDIDEzMi43ODEyNSAyNTYuNjIxMDk0IDEyOS42NTIzNDQgMjYyLjg1OTM3NSAxMjYuNTE5NTMxIDI2OS4xMDE1NjIgQyAxMzQuMzQ3NjU2IDI2OS4xMDE1NjIgMTQyLjE3MTg3NSAyNjkuMTAxNTYyIDE1MCAyNjkuMTAxNTYyIFogTSAxNTAgMjY5LjEwMTU2MiAiLz4KPHBhdGggc3R5bGU9IiBzdHJva2U6bm9uZTtmaWxsLXJ1bGU6bm9uemVybztmaWxsOnJnYigzNC41MDk4MDQlLDc2Ljg2Mjc0NSUsODYuNjY2NjY3JSk7ZmlsbC1vcGFjaXR5OjE7IiBkPSJNIDkzLjYzMjgxMiAxMjIuMzA0Njg4IEMgOTMuMjE0ODQ0IDEyMi42OTE0MDYgOTIuMjMwNDY5IDEyMy41MjM0MzggOTIuMjMwNDY5IDEyNC4wNjI1IEMgOTIuMjMwNDY5IDEyNC4zNTkzNzUgOTIuNTI3MzQ0IDEyNC42NTYyNSA5Mi44MjgxMjUgMTI0LjY1NjI1IEMgOTMuMDkzNzUgMTI0LjY1NjI1IDkzLjI0NjA5NCAxMjQuNDQ5MjE5IDkzLjM5NDUzMSAxMjQuMjY5NTMxIEMgOTMuNzUzOTA2IDEyMy44MjQyMTkgOTQuNDQxNDA2IDEyMi45ODgyODEgOTUuNzUzOTA2IDEyMi4zMzIwMzEgQyA5NS45NjQ4NDQgMTIyLjIxNDg0NCA5Ni4yNjE3MTkgMTIyLjA2NjQwNiA5Ni4yNjE3MTkgMTIxLjcwNzAzMSBDIDk2LjI2MTcxOSAxMjEuNDEwMTU2IDk2LjA1NDY4OCAxMjEuMjYxNzE5IDk1Ljg0Mzc1IDEyMS4xMTMyODEgQyA5NS4xODc1IDEyMC42NjQwNjIgOTQuODU5Mzc1IDEyMC4xMjg5MDYgOTQuNjIxMDk0IDExOS40MTQwNjIgQyA5NC41NTg1OTQgMTE5LjE0NDUzMSA5NC40NDE0MDYgMTE4Ljc1NzgxMiA5NC4wMjM0MzggMTE4Ljc1NzgxMiBDIDkzLjYwMTU2MiAxMTguNzU3ODEyIDkzLjQyNTc4MSAxMTkuMTQ0NTMxIDkzLjQyNTc4MSAxMTkuMzgyODEyIEMgOTMuNDI1NzgxIDExOS41MzEyNSA5My42NjQwNjIgMTIwLjQ4NDM3NSA5NC4xNDA2MjUgMTIxLjExMzI4MSBDIDkwLjc4NTE1NiAxMjEuMTEzMjgxIDg3LjQyNTc4MSAxMjEuMTEzMjgxIDg0LjA3MDMxMiAxMjEuMTEzMjgxIEMgODMuNTYyNSAxMjEuMTEzMjgxIDgzLjAyMzQzOCAxMjEuMTEzMjgxIDgzLjAyMzQzOCAxMjEuNzA3MDMxIEMgODMuMDIzNDM4IDEyMi4zMDQ2ODggODMuNTYyNSAxMjIuMzA0Njg4IDg0LjA3MDMxMiAxMjIuMzA0Njg4IEMgODcuMjU3ODEyIDEyMi4zMDQ2ODggOTAuNDQ1MzEyIDEyMi4zMDQ2ODggOTMuNjMyODEyIDEyMi4zMDQ2ODggWiBNIDkzLjYzMjgxMiAxMjIuMzA0Njg4ICIvPgo8cGF0aCBzdHlsZT0iIHN0cm9rZTpub25lO2ZpbGwtcnVsZTpub256ZXJvO2ZpbGw6cmdiKDM0LjUwOTgwNCUsNzYuODYyNzQ1JSw4Ni42NjY2NjclKTtmaWxsLW9wYWNpdHk6MTsiIGQ9Ik0gOTIuNzMwNDY5IDEyOC45NDUzMTIgQyA5Mi43MzA0NjkgMTI3LjMzNTkzOCA5MS45NTMxMjUgMTI2Ljg1OTM3NSA5MS40MTc5NjkgMTI2Ljg1OTM3NSBDIDkwLjY2Nzk2OSAxMjYuODU5Mzc1IDg5Ljk1MzEyNSAxMjcuNjM2NzE5IDg5Ljk1MzEyNSAxMjguMjg5MDYyIEMgODkuOTUzMTI1IDEyOC42Nzk2ODggOTAuMTAxNTYyIDEyOC44NTU0NjkgOTAuNDI5Njg4IDEyOS4xODM1OTQgQyA5MS4wNTg1OTQgMTI5Ljc4MTI1IDkxLjQ0NTMxMiAxMzAuNTU0Njg4IDkxLjQ0NTMxMiAxMzEuNjI4OTA2IEMgOTEuNDQ1MzEyIDEzMi44Nzg5MDYgODkuNjI1IDEzOS42OTkyMTkgODYuMTI1IDEzOS42OTkyMTkgQyA4NC42MDE1NjIgMTM5LjY5OTIxOSA4My45MTQwNjIgMTM4LjY1NjI1IDgzLjkxNDA2MiAxMzcuMTA5Mzc1IEMgODMuOTE0MDYyIDEzNS40NDE0MDYgODQuNzIyNjU2IDEzMy4yNjU2MjUgODUuNjQ4NDM4IDEzMC43OTI5NjkgQyA4NS44NTU0NjkgMTMwLjI4NTE1NiA4Ni4wMDc4MTIgMTI5Ljg3MTA5NCA4Ni4wMDc4MTIgMTI5LjMwNDY4OCBDIDg2LjAwNzgxMiAxMjcuOTY0ODQ0IDg1LjA1MDc4MSAxMjYuODU5Mzc1IDgzLjU1NDY4OCAxMjYuODU5Mzc1IEMgODAuNzQ2MDk0IDEyNi44NTkzNzUgNzkuNjA5Mzc1IDEzMS4xNzk2ODggNzkuNjA5Mzc1IDEzMS40NDkyMTkgQyA3OS42MDkzNzUgMTMxLjc0NjA5NCA3OS45MTAxNTYgMTMxLjc0NjA5NCA3OS45Njg3NSAxMzEuNzQ2MDk0IEMgODAuMjY5NTMxIDEzMS43NDYwOTQgODAuMjk2ODc1IDEzMS42ODc1IDgwLjQ0OTIxOSAxMzEuMjEwOTM4IEMgODEuMzEyNSAxMjguMjAzMTI1IDgyLjYwMTU2MiAxMjcuNTE1NjI1IDgzLjQ2NDg0NCAxMjcuNTE1NjI1IEMgODMuNzA3MDMxIDEyNy41MTU2MjUgODQuMjE0ODQ0IDEyNy41MTU2MjUgODQuMjE0ODQ0IDEyOC40Njg3NSBDIDg0LjIxNDg0NCAxMjkuMjE0ODQ0IDgzLjkxNDA2MiAxMzAuMDE5NTMxIDgzLjcwNzAzMSAxMzAuNTU0Njg4IEMgODIuMzkwNjI1IDEzNC4wMTE3MTkgODIgMTM1LjM3ODkwNiA4MiAxMzYuNjYwMTU2IEMgODIgMTM5Ljg3ODkwNiA4NC42MzI4MTIgMTQwLjM1NTQ2OSA4Ni4wMDc4MTIgMTQwLjM1NTQ2OSBDIDkxLjAyNzM0NCAxNDAuMzU1NDY5IDkyLjczMDQ2OSAxMzAuNDk2MDk0IDkyLjczMDQ2OSAxMjguOTQ1MzEyIFogTSA5Mi43MzA0NjkgMTI4Ljk0NTMxMiAiLz4KPHBhdGggc3R5bGU9IiBzdHJva2U6bm9uZTtmaWxsLXJ1bGU6bm9uemVybztmaWxsOnJnYigxMDAlLDUyLjU0OTAyJSwxOC40MzEzNzMlKTtmaWxsLW9wYWNpdHk6MTsiIGQ9Ik0gNjIuOTc2NTYyIDI1My4wMTU2MjUgQyA2Mi41NTg1OTQgMjUzLjQwMjM0NCA2MS41NzQyMTkgMjU0LjIzNDM3NSA2MS41NzQyMTkgMjU0Ljc3MzQzOCBDIDYxLjU3NDIxOSAyNTUuMDcwMzEyIDYxLjg3MTA5NCAyNTUuMzY3MTg4IDYyLjE3MTg3NSAyNTUuMzY3MTg4IEMgNjIuNDQxNDA2IDI1NS4zNjcxODggNjIuNTg5ODQ0IDI1NS4xNjAxNTYgNjIuNzM4MjgxIDI1NC45ODA0NjkgQyA2My4wOTc2NTYgMjU0LjUzNTE1NiA2My43ODUxNTYgMjUzLjY5OTIxOSA2NS4xMDE1NjIgMjUzLjA0Mjk2OSBDIDY1LjMwODU5NCAyNTIuOTI1NzgxIDY1LjYwOTM3NSAyNTIuNzc3MzQ0IDY1LjYwOTM3NSAyNTIuNDE3OTY5IEMgNjUuNjA5Mzc1IDI1Mi4xMjEwOTQgNjUuMzk4NDM4IDI1MS45NzI2NTYgNjUuMTkxNDA2IDI1MS44MjQyMTkgQyA2NC41MzEyNSAyNTEuMzc1IDY0LjIwMzEyNSAyNTAuODM5ODQ0IDYzLjk2NDg0NCAyNTAuMTI1IEMgNjMuOTA2MjUgMjQ5Ljg1NTQ2OSA2My43ODUxNTYgMjQ5LjQ2ODc1IDYzLjM2NzE4OCAyNDkuNDY4NzUgQyA2Mi45NDkyMTkgMjQ5LjQ2ODc1IDYyLjc2OTUzMSAyNDkuODU1NDY5IDYyLjc2OTUzMSAyNTAuMDkzNzUgQyA2Mi43Njk1MzEgMjUwLjI0NjA5NCA2My4wMDc4MTIgMjUxLjE5OTIxOSA2My40ODgyODEgMjUxLjgyNDIxOSBDIDYwLjEyODkwNiAyNTEuODI0MjE5IDU2Ljc3MzQzOCAyNTEuODI0MjE5IDUzLjQxNDA2MiAyNTEuODI0MjE5IEMgNTIuOTA2MjUgMjUxLjgyNDIxOSA1Mi4zNjcxODggMjUxLjgyNDIxOSA1Mi4zNjcxODggMjUyLjQxNzk2OSBDIDUyLjM2NzE4OCAyNTMuMDE1NjI1IDUyLjkwNjI1IDI1My4wMTU2MjUgNTMuNDE0MDYyIDI1My4wMTU2MjUgQyA1Ni42MDE1NjIgMjUzLjAxNTYyNSA1OS43ODkwNjIgMjUzLjAxNTYyNSA2Mi45NzY1NjIgMjUzLjAxNTYyNSBaIE0gNjIuOTc2NTYyIDI1My4wMTU2MjUgIi8+CjxwYXRoIHN0eWxlPSIgc3Ryb2tlOm5vbmU7ZmlsbC1ydWxlOm5vbnplcm87ZmlsbDpyZ2IoMTAwJSw1Mi41NDkwMiUsMTguNDMxMzczJSk7ZmlsbC1vcGFjaXR5OjE7IiBkPSJNIDU2LjkxNDA2MiAyNjAuNjQwNjI1IEMgNTcuMDY2NDA2IDI1OS45ODQzNzUgNTcuMzYzMjgxIDI1OC44ODI4MTIgNTcuMzYzMjgxIDI1OC43MDMxMjUgQyA1Ny4zNjMyODEgMjU4LjE2Nzk2OSA1Ni45NDUzMTIgMjU3Ljg5ODQzOCA1Ni40OTYwOTQgMjU3Ljg5ODQzOCBDIDU2LjE0MDYyNSAyNTcuODk4NDM4IDU1LjYwMTU2MiAyNTguMTM2NzE5IDU1LjM5MDYyNSAyNTguNzM0Mzc1IEMgNTUuMzAwNzgxIDI1OC45NDE0MDYgNTMuODk4NDM4IDI2NC42MzI4MTIgNTMuNjg3NSAyNjUuNDA2MjUgQyA1My40ODA0NjkgMjY2LjMwMDc4MSA1My40MTc5NjkgMjY2LjgzNTkzOCA1My40MTc5NjkgMjY3LjM3MTA5NCBDIDUzLjQxNzk2OSAyNjcuNjk5MjE5IDUzLjQxNzk2OSAyNjcuNzYxNzE5IDUzLjQ0OTIxOSAyNjcuOTEwMTU2IEMgNTIuNzYxNzE5IDI2OS40ODgyODEgNTEuODYzMjgxIDI3MC40MTAxNTYgNTAuNjk5MjE5IDI3MC40MTAxNTYgQyA0OC4zMDg1OTQgMjcwLjQxMDE1NiA0OC4zMDg1OTQgMjY4LjIwNzAzMSA0OC4zMDg1OTQgMjY3LjY5OTIxOSBDIDQ4LjMwODU5NCAyNjYuNzQ2MDk0IDQ4LjQ1NzAzMSAyNjUuNTg1OTM4IDQ5Ljg2MzI4MSAyNjEuOTIxODc1IEMgNTAuMTkxNDA2IDI2MS4wMjczNDQgNTAuMzcxMDk0IDI2MC42MDkzNzUgNTAuMzcxMDk0IDI2MC4wMTU2MjUgQyA1MC4zNzEwOTQgMjU4LjY3NTc4MSA0OS4zODI4MTIgMjU3LjU3NDIxOSA0Ny45MTc5NjkgMjU3LjU3NDIxOSBDIDQ1LjA4MjAzMSAyNTcuNTc0MjE5IDQzLjk3MjY1NiAyNjEuODkwNjI1IDQzLjk3MjY1NiAyNjIuMTYwMTU2IEMgNDMuOTcyNjU2IDI2Mi40NTcwMzEgNDQuMjczNDM4IDI2Mi40NTcwMzEgNDQuMzMyMDMxIDI2Mi40NTcwMzEgQyA0NC42MzI4MTIgMjYyLjQ1NzAzMSA0NC42NjAxNTYgMjYyLjM5ODQzOCA0NC44MTI1IDI2MS45MjE4NzUgQyA0NS42MTcxODggMjU5LjE1MjM0NCA0Ni43ODUxNTYgMjU4LjIyNjU2MiA0Ny44MjgxMjUgMjU4LjIyNjU2MiBDIDQ4LjA5NzY1NiAyNTguMjI2NTYyIDQ4LjU3ODEyNSAyNTguMjU3ODEyIDQ4LjU3ODEyNSAyNTkuMjEwOTM4IEMgNDguNTc4MTI1IDI1OS45NTcwMzEgNDguMjUgMjYwLjc4OTA2MiA0OC4wMzkwNjIgMjYxLjI5Njg3NSBDIDQ2LjcyMjY1NiAyNjQuODEyNSA0Ni4zNjcxODggMjY2LjE3OTY4OCA0Ni4zNjcxODggMjY3LjMxMjUgQyA0Ni4zNjcxODggMjcwLjAyMzQzOCA0OC4zNjcxODggMjcxLjA2NjQwNiA1MC42MDkzNzUgMjcxLjA2NjQwNiBDIDUxLjExNzE4OCAyNzEuMDY2NDA2IDUyLjUyMzQzOCAyNzEuMDY2NDA2IDUzLjcxODc1IDI2OC45ODA0NjkgQyA1NC40OTYwOTQgMjcwLjg4NjcxOSA1Ni41NTg1OTQgMjcxLjA2NjQwNiA1Ny40NTMxMjUgMjcxLjA2NjQwNiBDIDU5LjY5NTMxMiAyNzEuMDY2NDA2IDYxLjAxMTcxOSAyNjkuMTkxNDA2IDYxLjc4OTA2MiAyNjcuNDAyMzQ0IEMgNjIuODA0Njg4IDI2NS4wNzgxMjUgNjMuNzYxNzE5IDI2MS4wODU5MzggNjMuNzYxNzE5IDI1OS42NTYyNSBDIDYzLjc2MTcxOSAyNTguMDE5NTMxIDYyLjk1MzEyNSAyNTcuNTc0MjE5IDYyLjQ0NTMxMiAyNTcuNTc0MjE5IEMgNjEuNjk5MjE5IDI1Ny41NzQyMTkgNjAuOTQ5MjE5IDI1OC4zNDc2NTYgNjAuOTQ5MjE5IDI1OS4wMDM5MDYgQyA2MC45NDkyMTkgMjU5LjM5MDYyNSA2MS4xMjg5MDYgMjU5LjU2NjQwNiA2MS4zOTg0MzggMjU5LjgwNDY4OCBDIDYxLjcyNjU2MiAyNjAuMTMyODEyIDYyLjQ3NjU2MiAyNjAuOTEwMTU2IDYyLjQ3NjU2MiAyNjIuMzM5ODQ0IEMgNjIuNDc2NTYyIDI2My4zNTE1NjIgNjEuNjA5Mzc1IDI2Ni4yNjk1MzEgNjAuODMyMDMxIDI2Ny43ODkwNjIgQyA2MC4wNTQ2ODggMjY5LjM2NzE4OCA1OS4wMDc4MTIgMjcwLjQxMDE1NiA1Ny41NDI5NjkgMjcwLjQxMDE1NiBDIDU2LjE0MDYyNSAyNzAuNDEwMTU2IDU1LjMzMjAzMSAyNjkuNTE1NjI1IDU1LjMzMjAzMSAyNjcuODIwMzEyIEMgNTUuMzMyMDMxIDI2Ni45ODQzNzUgNTUuNTQyOTY5IDI2Ni4wNjI1IDU1LjY2MDE1NiAyNjUuNjQ0NTMxIEMgNTYuMDc4MTI1IDI2My45NzY1NjIgNTYuNDk2MDk0IDI2Mi4zMDg1OTQgNTYuOTE0MDYyIDI2MC42NDA2MjUgWiBNIDU2LjkxNDA2MiAyNjAuNjQwNjI1ICIvPgo8cGF0aCBzdHlsZT0iZmlsbDpub25lO3N0cm9rZS13aWR0aDowLjA0O3N0cm9rZS1saW5lY2FwOmJ1dHQ7c3Ryb2tlLWxpbmVqb2luOm1pdGVyO3N0cm9rZTpyZ2IoNjAuMzkyMTU3JSw0NC43MDU4ODIlLDY3LjQ1MDk4JSk7c3Ryb2tlLW9wYWNpdHk6MTtzdHJva2UtbWl0ZXJsaW1pdDoxMDsiIGQ9Ik0gLTIgLTEuMDAwMDEzIEMgLTEuNjkyMzE4IC0wLjc5NDkwMiAtMS4zODQ2MzUgLTAuNTg5NzI2IC0xLjA3Njk1MyAtMC4zODQ2MTUgIiB0cmFuc2Zvcm09Im1hdHJpeCg2MCwwLDAsLTU5LjgsMTUwLDE0OS41KSIvPgo8cGF0aCBzdHlsZT0iZmlsbDpub25lO3N0cm9rZS13aWR0aDowLjA0O3N0cm9rZS1saW5lY2FwOmJ1dHQ7c3Ryb2tlLWxpbmVqb2luOm1pdGVyO3N0cm9rZTpyZ2IoNjAuMzkyMTU3JSw0NC43MDU4ODIlLDY3LjQ1MDk4JSk7c3Ryb2tlLW9wYWNpdHk6MTtzdHJva2UtbWl0ZXJsaW1pdDoxMDsiIGQ9Ik0gLTEuMDc2OTUzIC0wLjM4NDYxNSBDIC0xLjA2Nzk2OSAtMC4zOTgwNzIgLTEuMDU4OTg0IC0wLjQxMTUyOCAtMS4wNSAtMC40MjQ5ODQgIiB0cmFuc2Zvcm09Im1hdHJpeCg2MCwwLDAsLTU5LjgsMTUwLDE0OS41KSIvPgo8cGF0aCBzdHlsZT0iZmlsbDpub25lO3N0cm9rZS13aWR0aDowLjA0O3N0cm9rZS1saW5lY2FwOmJ1dHQ7c3Ryb2tlLWxpbmVqb2luOm1pdGVyO3N0cm9rZTpyZ2IoNjAuMzkyMTU3JSw0NC43MDU4ODIlLDY3LjQ1MDk4JSk7c3Ryb2tlLW9wYWNpdHk6MTtzdHJva2UtbWl0ZXJsaW1pdDoxMDsiIGQ9Ik0gLTEuMDIxNjggLTAuNDY3NTA5IEMgLTEuMDEyNjk1IC0wLjQ4MDk2NSAtMS4wMDM3MTEgLTAuNDk0NDIyIC0wLjk5NDcyNyAtMC41MDc4NzggIiB0cmFuc2Zvcm09Im1hdHJpeCg2MCwwLDAsLTU5LjgsMTUwLDE0OS41KSIvPgo8cGF0aCBzdHlsZT0iZmlsbDpub25lO3N0cm9rZS13aWR0aDowLjA0O3N0cm9rZS1saW5lY2FwOmJ1dHQ7c3Ryb2tlLWxpbmVqb2luOm1pdGVyO3N0cm9rZTpyZ2IoNjAuMzkyMTU3JSw0NC43MDU4ODIlLDY3LjQ1MDk4JSk7c3Ryb2tlLW9wYWNpdHk6MTtzdHJva2UtbWl0ZXJsaW1pdDoxMDsiIGQ9Ik0gLTAuOTY2NDA2IC0wLjU1MDQwMiBDIC0wLjk1NzQyMiAtMC41NjM4NTkgLTAuOTQ4NDM4IC0wLjU3NzMxNSAtMC45Mzk0NTMgLTAuNTkwNzcxICIgdHJhbnNmb3JtPSJtYXRyaXgoNjAsMCwwLC01OS44LDE1MCwxNDkuNSkiLz4KPHBhdGggc3R5bGU9ImZpbGw6bm9uZTtzdHJva2Utd2lkdGg6MC4wNDtzdHJva2UtbGluZWNhcDpidXR0O3N0cm9rZS1saW5lam9pbjptaXRlcjtzdHJva2U6cmdiKDYwLjM5MjE1NyUsNDQuNzA1ODgyJSw2Ny40NTA5OCUpO3N0cm9rZS1vcGFjaXR5OjE7c3Ryb2tlLW1pdGVybGltaXQ6MTA7IiBkPSJNIC0wLjkxMTEzMyAtMC42MzMyOTYgQyAtMC45MDIxNDggLTAuNjQ2NzUyIC0wLjg5MzE2NCAtMC42NjAyMDkgLTAuODg0MTggLTAuNjczNjY1ICIgdHJhbnNmb3JtPSJtYXRyaXgoNjAsMCwwLC01OS44LDE1MCwxNDkuNSkiLz4KPHBhdGggc3R5bGU9ImZpbGw6bm9uZTtzdHJva2Utd2lkdGg6MC4wNDtzdHJva2UtbGluZWNhcDpidXR0O3N0cm9rZS1saW5lam9pbjptaXRlcjtzdHJva2U6cmdiKDYwLjM5MjE1NyUsNDQuNzA1ODgyJSw2Ny40NTA5OCUpO3N0cm9rZS1vcGFjaXR5OjE7c3Ryb2tlLW1pdGVybGltaXQ6MTA7IiBkPSJNIC0wLjg1NTg1OSAtMC43MTYxODkgQyAtMC44NDY4NzUgLTAuNzI5NjQ2IC0wLjgzNzg5MSAtMC43NDMxMDIgLTAuODI4OTcxIC0wLjc1NjU1OCAiIHRyYW5zZm9ybT0ibWF0cml4KDYwLDAsMCwtNTkuOCwxNTAsMTQ5LjUpIi8+CjxwYXRoIHN0eWxlPSJmaWxsOm5vbmU7c3Ryb2tlLXdpZHRoOjAuMDQ7c3Ryb2tlLWxpbmVjYXA6YnV0dDtzdHJva2UtbGluZWpvaW46bWl0ZXI7c3Ryb2tlOnJnYig2MC4zOTIxNTclLDQ0LjcwNTg4MiUsNjcuNDUwOTglKTtzdHJva2Utb3BhY2l0eToxO3N0cm9rZS1taXRlcmxpbWl0OjEwOyIgZD0iTSAtMC44MDA1ODYgLTAuNzk5MDgzIEMgLTAuNzkxNjAyIC0wLjgxMjUzOSAtMC43ODI2ODIgLTAuODI1OTk2IC0wLjc3MzY5OCAtMC44Mzk0NTIgIiB0cmFuc2Zvcm09Im1hdHJpeCg2MCwwLDAsLTU5LjgsMTUwLDE0OS41KSIvPgo8cGF0aCBzdHlsZT0iZmlsbDpub25lO3N0cm9rZS13aWR0aDowLjA0O3N0cm9rZS1saW5lY2FwOmJ1dHQ7c3Ryb2tlLWxpbmVqb2luOm1pdGVyO3N0cm9rZTpyZ2IoNjAuMzkyMTU3JSw0NC43MDU4ODIlLDY3LjQ1MDk4JSk7c3Ryb2tlLW9wYWNpdHk6MTtzdHJva2UtbWl0ZXJsaW1pdDoxMDsiIGQ9Ik0gLTAuNzQ1MzEzIC0wLjg4MTk3NiBDIC0wLjczNjM5MyAtMC44OTU0MzMgLTAuNzI3NDA5IC0wLjkwODg4OSAtMC43MTg0MjQgLTAuOTIyMzQ1ICIgdHJhbnNmb3JtPSJtYXRyaXgoNjAsMCwwLC01OS44LDE1MCwxNDkuNSkiLz4KPHBhdGggc3R5bGU9ImZpbGw6bm9uZTtzdHJva2Utd2lkdGg6MC4wNDtzdHJva2UtbGluZWNhcDpidXR0O3N0cm9rZS1saW5lam9pbjptaXRlcjtzdHJva2U6cmdiKDYwLjM5MjE1NyUsNDQuNzA1ODgyJSw2Ny40NTA5OCUpO3N0cm9rZS1vcGFjaXR5OjE7c3Ryb2tlLW1pdGVybGltaXQ6MTA7IiBkPSJNIC0wLjY5MDEwNCAtMC45NjQ4NyBDIC0wLjY4MTEyIC0wLjk3ODMyNiAtMC42NzIxMzUgLTAuOTkxNzgzIC0wLjY2MzE1MSAtMS4wMDUyMzkgIiB0cmFuc2Zvcm09Im1hdHJpeCg2MCwwLDAsLTU5LjgsMTUwLDE0OS41KSIvPgo8cGF0aCBzdHlsZT0iZmlsbDpub25lO3N0cm9rZS13aWR0aDowLjA0O3N0cm9rZS1saW5lY2FwOmJ1dHQ7c3Ryb2tlLWxpbmVqb2luOm1pdGVyO3N0cm9rZTpyZ2IoNjAuMzkyMTU3JSw0NC43MDU4ODIlLDY3LjQ1MDk4JSk7c3Ryb2tlLW9wYWNpdHk6MTtzdHJva2UtbWl0ZXJsaW1pdDoxMDsiIGQ9Ik0gLTAuNjM0ODMxIC0xLjA0Nzc2MyBDIC0wLjYyNTg0NiAtMS4wNjEyMiAtMC42MTY4NjIgLTEuMDc0Njc2IC0wLjYwNzg3OCAtMS4wODgxMzIgIiB0cmFuc2Zvcm09Im1hdHJpeCg2MCwwLDAsLTU5LjgsMTUwLDE0OS41KSIvPgo8cGF0aCBzdHlsZT0iZmlsbDpub25lO3N0cm9rZS13aWR0aDowLjA0O3N0cm9rZS1saW5lY2FwOmJ1dHQ7c3Ryb2tlLWxpbmVqb2luOm1pdGVyO3N0cm9rZTpyZ2IoNjAuMzkyMTU3JSw0NC43MDU4ODIlLDY3LjQ1MDk4JSk7c3Ryb2tlLW9wYWNpdHk6MTtzdHJva2UtbWl0ZXJsaW1pdDoxMDsiIGQ9Ik0gLTAuNTc5NTU3IC0xLjEzMDY1NyBDIC0wLjU3MDU3MyAtMS4xNDQxMTMgLTAuNTYxNTg5IC0xLjE1NzU3IC0wLjU1MjYwNCAtMS4xNzEwMjYgIiB0cmFuc2Zvcm09Im1hdHJpeCg2MCwwLDAsLTU5LjgsMTUwLDE0OS41KSIvPgo8cGF0aCBzdHlsZT0iZmlsbDpub25lO3N0cm9rZS13aWR0aDowLjA0O3N0cm9rZS1saW5lY2FwOmJ1dHQ7c3Ryb2tlLWxpbmVqb2luOm1pdGVyO3N0cm9rZTpyZ2IoNjAuMzkyMTU3JSw0NC43MDU4ODIlLDY3LjQ1MDk4JSk7c3Ryb2tlLW9wYWNpdHk6MTtzdHJva2UtbWl0ZXJsaW1pdDoxMDsiIGQ9Ik0gLTAuNTI0Mjg0IC0xLjIxMzU1IEMgLTAuNTE1Mjk5IC0xLjIyNzAwNyAtMC41MDYzMTUgLTEuMjQwNDYzIC0wLjQ5NzM5NiAtMS4yNTM5MTkgIiB0cmFuc2Zvcm09Im1hdHJpeCg2MCwwLDAsLTU5LjgsMTUwLDE0OS41KSIvPgo8cGF0aCBzdHlsZT0iZmlsbDpub25lO3N0cm9rZS13aWR0aDowLjA0O3N0cm9rZS1saW5lY2FwOmJ1dHQ7c3Ryb2tlLWxpbmVqb2luOm1pdGVyO3N0cm9rZTpyZ2IoNjAuMzkyMTU3JSw0NC43MDU4ODIlLDY3LjQ1MDk4JSk7c3Ryb2tlLW9wYWNpdHk6MTtzdHJva2UtbWl0ZXJsaW1pdDoxMDsiIGQ9Ik0gLTAuNDY5MDEgLTEuMjk2NDQ0IEMgLTAuNDYwMDI2IC0xLjMwOTkgLTAuNDUxMTA3IC0xLjMyMzM1NyAtMC40NDIxMjIgLTEuMzM2ODEzICIgdHJhbnNmb3JtPSJtYXRyaXgoNjAsMCwwLC01OS44LDE1MCwxNDkuNSkiLz4KPHBhdGggc3R5bGU9ImZpbGw6bm9uZTtzdHJva2Utd2lkdGg6MC4wNDtzdHJva2UtbGluZWNhcDpidXR0O3N0cm9rZS1saW5lam9pbjptaXRlcjtzdHJva2U6cmdiKDYwLjM5MjE1NyUsNDQuNzA1ODgyJSw2Ny40NTA5OCUpO3N0cm9rZS1vcGFjaXR5OjE7c3Ryb2tlLW1pdGVybGltaXQ6MTA7IiBkPSJNIC0wLjQxMzczNyAtMS4zNzkzMzcgQyAtMC40MDQ4MTggLTEuMzkyNzk0IC0wLjM5NTgzMyAtMS40MDYyNSAtMC4zODY4NDkgLTEuNDE5NzA2ICIgdHJhbnNmb3JtPSJtYXRyaXgoNjAsMCwwLC01OS44LDE1MCwxNDkuNSkiLz4KPHBhdGggc3R5bGU9ImZpbGw6bm9uZTtzdHJva2Utd2lkdGg6MC4wNDtzdHJva2UtbGluZWNhcDpidXR0O3N0cm9rZS1saW5lam9pbjptaXRlcjtzdHJva2U6cmdiKDYwLjM5MjE1NyUsNDQuNzA1ODgyJSw2Ny40NTA5OCUpO3N0cm9rZS1vcGFjaXR5OjE7c3Ryb2tlLW1pdGVybGltaXQ6MTA7IiBkPSJNIC0wLjM1ODUyOSAtMS40NjIyMzEgQyAtMC4zNDk1NDQgLTEuNDc1Njg3IC0wLjM0MDU2IC0xLjQ4OTE0MyAtMC4zMzE1NzYgLTEuNTAyNiAiIHRyYW5zZm9ybT0ibWF0cml4KDYwLDAsMCwtNTkuOCwxNTAsMTQ5LjUpIi8+CjxwYXRoIHN0eWxlPSJmaWxsOm5vbmU7c3Ryb2tlLXdpZHRoOjAuMDQ7c3Ryb2tlLWxpbmVjYXA6YnV0dDtzdHJva2UtbGluZWpvaW46bWl0ZXI7c3Ryb2tlOnJnYig2MC4zOTIxNTclLDQ0LjcwNTg4MiUsNjcuNDUwOTglKTtzdHJva2Utb3BhY2l0eToxO3N0cm9rZS1taXRlcmxpbWl0OjEwOyIgZD0iTSAtMC4zMDMyNTUgLTEuNTQ1MTI0IEMgLTAuMjk0MjcxIC0xLjU1ODU4MSAtMC4yODUyODYgLTEuNTcyMDM3IC0wLjI3NjMwMiAtMS41ODU1NTkgIiB0cmFuc2Zvcm09Im1hdHJpeCg2MCwwLDAsLTU5LjgsMTUwLDE0OS41KSIvPgo8cGF0aCBzdHlsZT0iZmlsbDpub25lO3N0cm9rZS13aWR0aDowLjA0O3N0cm9rZS1saW5lY2FwOmJ1dHQ7c3Ryb2tlLWxpbmVqb2luOm1pdGVyO3N0cm9rZTpyZ2IoNjAuMzkyMTU3JSw0NC43MDU4ODIlLDY3LjQ1MDk4JSk7c3Ryb2tlLW9wYWNpdHk6MTtzdHJva2UtbWl0ZXJsaW1pdDoxMDsiIGQ9Ik0gLTAuMjQ3OTgyIC0xLjYyODAxOCBDIC0wLjIzODk5NyAtMS42NDE0NzQgLTAuMjMwMDEzIC0xLjY1NDkzIC0wLjIyMTAyOSAtMS42Njg0NTIgIiB0cmFuc2Zvcm09Im1hdHJpeCg2MCwwLDAsLTU5LjgsMTUwLDE0OS41KSIvPgo8cGF0aCBzdHlsZT0iZmlsbDpub25lO3N0cm9rZS13aWR0aDowLjA0O3N0cm9rZS1saW5lY2FwOmJ1dHQ7c3Ryb2tlLWxpbmVqb2luOm1pdGVyO3N0cm9rZTpyZ2IoNjAuMzkyMTU3JSw0NC43MDU4ODIlLDY3LjQ1MDk4JSk7c3Ryb2tlLW9wYWNpdHk6MTtzdHJva2UtbWl0ZXJsaW1pdDoxMDsiIGQ9Ik0gLTAuMTkyNzA4IC0xLjcxMDkxMSBDIC0wLjE4MzcyNCAtMS43MjQzNjggLTAuMTc0NzQgLTEuNzM3ODI0IC0wLjE2NTgyIC0xLjc1MTM0NiAiIHRyYW5zZm9ybT0ibWF0cml4KDYwLDAsMCwtNTkuOCwxNTAsMTQ5LjUpIi8+CjxwYXRoIHN0eWxlPSJmaWxsOm5vbmU7c3Ryb2tlLXdpZHRoOjAuMDQ7c3Ryb2tlLWxpbmVjYXA6YnV0dDtzdHJva2UtbGluZWpvaW46bWl0ZXI7c3Ryb2tlOnJnYig2MC4zOTIxNTclLDQ0LjcwNTg4MiUsNjcuNDUwOTglKTtzdHJva2Utb3BhY2l0eToxO3N0cm9rZS1taXRlcmxpbWl0OjEwOyIgZD0iTSAtMC4xMzc0MzUgLTEuNzkzODA1IEMgLTAuMTI4NDUxIC0xLjgwNzI2MSAtMC4xMTk1MzEgLTEuODIwNzE3IC0wLjExMDU0NyAtMS44MzQyMzkgIiB0cmFuc2Zvcm09Im1hdHJpeCg2MCwwLDAsLTU5LjgsMTUwLDE0OS41KSIvPgo8cGF0aCBzdHlsZT0iZmlsbDpub25lO3N0cm9rZS13aWR0aDowLjA0O3N0cm9rZS1saW5lY2FwOmJ1dHQ7c3Ryb2tlLWxpbmVqb2luOm1pdGVyO3N0cm9rZTpyZ2IoNjAuMzkyMTU3JSw0NC43MDU4ODIlLDY3LjQ1MDk4JSk7c3Ryb2tlLW9wYWNpdHk6MTtzdHJva2UtbWl0ZXJsaW1pdDoxMDsiIGQ9Ik0gLTAuMDgyMTYxNSAtMS44NzY2OTggQyAtMC4wNzMyNDIyIC0xLjg5MDE1NSAtMC4wNjQyNTc4IC0xLjkwMzY3NiAtMC4wNTUyNzM0IC0xLjkxNzEzMyAiIHRyYW5zZm9ybT0ibWF0cml4KDYwLDAsMCwtNTkuOCwxNTAsMTQ5LjUpIi8+CjxwYXRoIHN0eWxlPSJmaWxsOm5vbmU7c3Ryb2tlLXdpZHRoOjAuMDQ7c3Ryb2tlLWxpbmVjYXA6YnV0dDtzdHJva2UtbGluZWpvaW46bWl0ZXI7c3Ryb2tlOnJnYig2MC4zOTIxNTclLDQ0LjcwNTg4MiUsNjcuNDUwOTglKTtzdHJva2Utb3BhY2l0eToxO3N0cm9rZS1taXRlcmxpbWl0OjEwOyIgZD0iTSAtMC4wMjY5NTMxIC0xLjk1OTU5MiBDIC0wLjAxNzk2ODggLTEuOTczMDQ4IC0wLjAwODk4NDM3IC0xLjk4NjU3IDAgLTIuMDAwMDI2ICIgdHJhbnNmb3JtPSJtYXRyaXgoNjAsMCwwLC01OS44LDE1MCwxNDkuNSkiLz4KPC9nPgo8L3N2Zz4K)\n"
   ]
  },
  {
   "cell_type": "markdown",
   "id": "c573c18b",
   "metadata": {},
   "source": [
    "Performing a few operations in NumPy, we can find the vector of this \"shadow\" which we call the projected vector. "
   ]
  },
  {
   "cell_type": "code",
   "execution_count": null,
   "id": "dd04b58c",
   "metadata": {},
   "outputs": [],
   "source": [
    "import numpy as np \n",
    "\n",
    "v = np.array([3,2])\n",
    "w = np.array([2,-1])\n",
    "\n",
    "# finding norm of the vector v\n",
    "v_norm = np.sqrt(sum(v ** 2))\n",
    "v_norm\n",
    "\n",
    "# projection vector\n",
    "proj_of_w_on_v = (np.dot(w, v) / v_norm ** 2) * v\n",
    "proj_of_w_on_v"
   ]
  },
  {
   "cell_type": "markdown",
   "id": "df235f58",
   "metadata": {},
   "source": [
    "![img](data:image/svg+xml;base64,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)\n"
   ]
  },
  {
   "cell_type": "markdown",
   "id": "376d6823",
   "metadata": {},
   "source": [
    "Let's calculate the magnitude of this projected vector, which again is just its length. We can achieve this using the `norm()` function in NumPy's `linalg` package. "
   ]
  },
  {
   "cell_type": "code",
   "execution_count": null,
   "id": "7496df85",
   "metadata": {},
   "outputs": [],
   "source": [
    "magnitude_of_proj = np.linalg.norm(proj_of_w_on_v)\n",
    "magnitude_of_proj"
   ]
  },
  {
   "cell_type": "code",
   "execution_count": null,
   "id": "92c732b8",
   "metadata": {},
   "outputs": [],
   "source": [
    "magnitude_of_v = np.linalg.norm(v)\n",
    "dot_product = magnitude_of_v * magnitude_of_proj\n",
    "dot_product"
   ]
  },
  {
   "cell_type": "markdown",
   "id": "3e7236c1",
   "metadata": {},
   "source": [
    "Dot products are the underlying key to linear transformations we have learned about to this point, and with matrix-vector multiplication and matrix multiplication many projections like this happen. Properties like duality further explain why dot products are the building blocks of transformations, but for the sake of brevity we will steer clear of this. [3Blue1Brown has a great video covering this topic](https://youtu.be/LyGKycYT2v0). For now, I just wanted to give a little taste what the dot product does. "
   ]
  },
  {
   "cell_type": "markdown",
   "id": "03690c69",
   "metadata": {},
   "source": [
    "## Exercise"
   ]
  },
  {
   "cell_type": "markdown",
   "id": "aef061db",
   "metadata": {},
   "source": [
    "Let's take this matrix $ A = \\begin{bmatrix} 1 & 1 \\\\ 0 & 1 \\end{bmatrix} $. This matrix is applied to vector $ \\vec{v} $,  then $ \\vec{v} $ becomes $ \\vec{w} $ and lands $ \\begin{bmatrix} 1 \\\\ 2 \\end{bmatrix} $. What is vector $ \\vec{v} $'s location? \n",
    "\n",
    "Compute this using NumPy."
   ]
  },
  {
   "cell_type": "markdown",
   "id": "11ef2217",
   "metadata": {},
   "source": [
    "### SCROLL DOWN FOR ANSWER\n",
    "|<br>\n",
    "|<br>\n",
    "|<br>\n",
    "|<br>\n",
    "|<br>\n",
    "|<br>\n",
    "|<br>\n",
    "|<br>\n",
    "|<br>\n",
    "|<br>\n",
    "|<br>\n",
    "|<br>\n",
    "|<br>\n",
    "|<br>\n",
    "|<br>\n",
    "|<br>\n",
    "|<br>\n",
    "|<br>\n",
    "|<br>\n",
    "|<br>\n",
    "|<br>\n",
    "|<br>\n",
    "|<br>\n",
    "v "
   ]
  },
  {
   "cell_type": "markdown",
   "id": "9879bdc5",
   "metadata": {},
   "source": [
    "$ \\vec{v} $ originally was at $ \\begin{bmatrix} 1 \\\\ 2 \\end{bmatrix} $. Calculate the inverse of matrix $ A $ and apply it to vector $ \\vec{w} $ to undo the transformation, and get vector $ \\vec{v} $."
   ]
  },
  {
   "cell_type": "code",
   "execution_count": null,
   "id": "5b70edd5",
   "metadata": {},
   "outputs": [],
   "source": [
    "import numpy as np \n",
    "from numpy.linalg import inv \n",
    "\n",
    "i_hat = np.array([1,0])\n",
    "j_hat = np.array([1,1])\n",
    "w = np.array([1,2])\n",
    "\n",
    "A = np.array([i_hat,j_hat]).transpose()\n",
    "A_inv = inv(A) \n",
    "\n",
    "v = A_inv @ w \n",
    "v"
   ]
  }
 ],
 "metadata": {
  "kernelspec": {
   "display_name": "Python 3 (ipykernel)",
   "language": "python",
   "name": "python3"
  },
  "language_info": {
   "codemirror_mode": {
    "name": "ipython",
    "version": 3
   },
   "file_extension": ".py",
   "mimetype": "text/x-python",
   "name": "python",
   "nbconvert_exporter": "python",
   "pygments_lexer": "ipython3",
   "version": "3.9.16"
  }
 },
 "nbformat": 4,
 "nbformat_minor": 5
}
