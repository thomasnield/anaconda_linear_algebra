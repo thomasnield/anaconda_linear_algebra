{
 "cells": [
  {
   "cell_type": "markdown",
   "id": "c7beee55",
   "metadata": {},
   "source": [
    "# Matrices"
   ]
  },
  {
   "cell_type": "markdown",
   "id": "2e89aa4b",
   "metadata": {},
   "source": [
    "A matrix is a grid of numbers that can represent data and a linear transformation. In machine learning and data science, you will find yourself using matrices a lot. Typically when you ingest data, you will often have to represent it in an numeric matrix. This even applies to non-numeric data like text, which is turned into numeric vectors and matrices so machine learning applications (like GPT) can mathematically operate on it. \n",
    "\n",
    "Let's first look at a matrix in its numeric form and then we will talk about how it represents a linear transformation. "
   ]
  },
  {
   "cell_type": "markdown",
   "id": "2fe96016",
   "metadata": {},
   "source": [
    "## What is a Matrix? \n",
    "\n",
    "A **matrix** is a grid of numbers that can be manipulated and operated on as a single unit. It is a way of organizing multiple numeric values efficiently and describe a set of operations on it. It is the fundamental building block to machine learning and data science. \n",
    "\n",
    "Here is a matrix $ A $ below: \n",
    "\n",
    "$$\n",
    "A = \\begin{bmatrix} 3 & 1  \\\\ 2.5 & -2 \\end{bmatrix}\n",
    "$$\n",
    "\n",
    "We can think of each row or column as an individual vector, and we will explore this shortly. What makes "
   ]
  },
  {
   "cell_type": "markdown",
   "id": "a646ab69",
   "metadata": {},
   "source": [
    "<video src=\"https://github.com/thomasnield/oreilly_intro_to_mathematical_optimization/raw/master/videos/traveling_salesman_greedy.mp4\" controls=\"controls\" style=\"max-width: 730px;\">\n",
    "</video>\n"
   ]
  },
  {
   "cell_type": "code",
   "execution_count": null,
   "id": "2c3cb4d7",
   "metadata": {},
   "outputs": [],
   "source": []
  }
 ],
 "metadata": {
  "kernelspec": {
   "display_name": "Python 3 (ipykernel)",
   "language": "python",
   "name": "python3"
  },
  "language_info": {
   "codemirror_mode": {
    "name": "ipython",
    "version": 3
   },
   "file_extension": ".py",
   "mimetype": "text/x-python",
   "name": "python",
   "nbconvert_exporter": "python",
   "pygments_lexer": "ipython3",
   "version": "3.9.16"
  }
 },
 "nbformat": 4,
 "nbformat_minor": 5
}
